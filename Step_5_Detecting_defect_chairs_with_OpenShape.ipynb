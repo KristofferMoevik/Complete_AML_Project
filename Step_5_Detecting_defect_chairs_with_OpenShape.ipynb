{
  "nbformat": 4,
  "nbformat_minor": 0,
  "metadata": {
    "colab": {
      "provenance": [],
      "gpuType": "T4",
      "collapsed_sections": [
        "W_I1PHBrhadT",
        "AWm2jCYYxBhl",
        "W0YW3xqHyJDT",
        "tWsXrNENL40j",
        "ApGQMjIqxGPj",
        "T9hTd58X8iqT",
        "jVK3P6CBagup"
      ]
    },
    "kernelspec": {
      "name": "python3",
      "display_name": "Python 3"
    },
    "language_info": {
      "name": "python"
    },
    "accelerator": "GPU",
    "widgets": {
      "application/vnd.jupyter.widget-state+json": {
        "21695eb111df4ce58d33761cf0e75555": {
          "model_module": "@jupyter-widgets/controls",
          "model_name": "VBoxModel",
          "model_module_version": "2.0.0",
          "state": {
            "_dom_classes": [],
            "_model_module": "@jupyter-widgets/controls",
            "_model_module_version": "2.0.0",
            "_model_name": "VBoxModel",
            "_view_count": null,
            "_view_module": "@jupyter-widgets/controls",
            "_view_module_version": "2.0.0",
            "_view_name": "VBoxView",
            "box_style": "",
            "children": [
              "IPY_MODEL_249ac0ca444745708826ec3a47ce128d",
              "IPY_MODEL_2c985458c486498abc3f154d3cb3a904",
              "IPY_MODEL_88a76ea643fb4cd1a7b057a2893baf11",
              "IPY_MODEL_1b6477daa0ff4b82bf5e64e9d60c09a0",
              "IPY_MODEL_32240595fb634229bb971b9b468a5258"
            ],
            "layout": "IPY_MODEL_fffb4ecc7c244742bf1051a4bf7ef7cc",
            "tabbable": null,
            "tooltip": null
          }
        },
        "249ac0ca444745708826ec3a47ce128d": {
          "model_module": "@jupyter-widgets/controls",
          "model_name": "HTMLModel",
          "model_module_version": "2.0.0",
          "state": {
            "_dom_classes": [],
            "_model_module": "@jupyter-widgets/controls",
            "_model_module_version": "2.0.0",
            "_model_name": "HTMLModel",
            "_view_count": null,
            "_view_module": "@jupyter-widgets/controls",
            "_view_module_version": "2.0.0",
            "_view_name": "HTMLView",
            "description": "",
            "description_allow_html": false,
            "layout": "IPY_MODEL_372ae819bfef4ea4aa70cc25a0152e02",
            "placeholder": "​",
            "style": "IPY_MODEL_2f8b77f6541f411f98e01f0f101535eb",
            "tabbable": null,
            "tooltip": null,
            "value": "<center> <img\nsrc=https://huggingface.co/front/assets/huggingface_logo-noborder.svg\nalt='Hugging Face'> <br> Copy a token from <a\nhref=\"https://huggingface.co/settings/tokens\" target=\"_blank\">your Hugging Face\ntokens page</a> and paste it below. <br> Immediately click login after copying\nyour token or it might be stored in plain text in this notebook file. </center>"
          }
        },
        "2c985458c486498abc3f154d3cb3a904": {
          "model_module": "@jupyter-widgets/controls",
          "model_name": "PasswordModel",
          "model_module_version": "2.0.0",
          "state": {
            "_dom_classes": [],
            "_model_module": "@jupyter-widgets/controls",
            "_model_module_version": "2.0.0",
            "_model_name": "PasswordModel",
            "_view_count": null,
            "_view_module": "@jupyter-widgets/controls",
            "_view_module_version": "2.0.0",
            "_view_name": "PasswordView",
            "continuous_update": true,
            "description": "Token:",
            "description_allow_html": false,
            "disabled": false,
            "layout": "IPY_MODEL_78a1f4cd2caa41d69496939bc26a1f3f",
            "placeholder": "​",
            "style": "IPY_MODEL_4b06f9ef961a40d9849b03d1bf52458b",
            "tabbable": null,
            "tooltip": null,
            "value": ""
          }
        },
        "88a76ea643fb4cd1a7b057a2893baf11": {
          "model_module": "@jupyter-widgets/controls",
          "model_name": "CheckboxModel",
          "model_module_version": "2.0.0",
          "state": {
            "_dom_classes": [],
            "_model_module": "@jupyter-widgets/controls",
            "_model_module_version": "2.0.0",
            "_model_name": "CheckboxModel",
            "_view_count": null,
            "_view_module": "@jupyter-widgets/controls",
            "_view_module_version": "2.0.0",
            "_view_name": "CheckboxView",
            "description": "Add token as git credential?",
            "description_allow_html": false,
            "disabled": false,
            "indent": true,
            "layout": "IPY_MODEL_af3a6e2c4a534933aaf619a7341f5f7d",
            "style": "IPY_MODEL_f34a5f01945a48e8bcd85df66a6762e3",
            "tabbable": null,
            "tooltip": null,
            "value": true
          }
        },
        "1b6477daa0ff4b82bf5e64e9d60c09a0": {
          "model_module": "@jupyter-widgets/controls",
          "model_name": "ButtonModel",
          "model_module_version": "2.0.0",
          "state": {
            "_dom_classes": [],
            "_model_module": "@jupyter-widgets/controls",
            "_model_module_version": "2.0.0",
            "_model_name": "ButtonModel",
            "_view_count": null,
            "_view_module": "@jupyter-widgets/controls",
            "_view_module_version": "2.0.0",
            "_view_name": "ButtonView",
            "button_style": "",
            "description": "Login",
            "disabled": false,
            "icon": "",
            "layout": "IPY_MODEL_bdb21fe325f6447487440f0aa5a41bcb",
            "style": "IPY_MODEL_bb2934f921d54797ae1a682ce90adf76",
            "tabbable": null,
            "tooltip": null
          }
        },
        "32240595fb634229bb971b9b468a5258": {
          "model_module": "@jupyter-widgets/controls",
          "model_name": "HTMLModel",
          "model_module_version": "2.0.0",
          "state": {
            "_dom_classes": [],
            "_model_module": "@jupyter-widgets/controls",
            "_model_module_version": "2.0.0",
            "_model_name": "HTMLModel",
            "_view_count": null,
            "_view_module": "@jupyter-widgets/controls",
            "_view_module_version": "2.0.0",
            "_view_name": "HTMLView",
            "description": "",
            "description_allow_html": false,
            "layout": "IPY_MODEL_3b4b4e367ac24f129acc117df5d84e22",
            "placeholder": "​",
            "style": "IPY_MODEL_9a9c9ba6602440358e5604e13a8c6887",
            "tabbable": null,
            "tooltip": null,
            "value": "\n<b>Pro Tip:</b> If you don't already have one, you can create a dedicated\n'notebooks' token with 'write' access, that you can then easily reuse for all\nnotebooks. </center>"
          }
        },
        "fffb4ecc7c244742bf1051a4bf7ef7cc": {
          "model_module": "@jupyter-widgets/base",
          "model_name": "LayoutModel",
          "model_module_version": "2.0.0",
          "state": {
            "_model_module": "@jupyter-widgets/base",
            "_model_module_version": "2.0.0",
            "_model_name": "LayoutModel",
            "_view_count": null,
            "_view_module": "@jupyter-widgets/base",
            "_view_module_version": "2.0.0",
            "_view_name": "LayoutView",
            "align_content": null,
            "align_items": "center",
            "align_self": null,
            "border_bottom": null,
            "border_left": null,
            "border_right": null,
            "border_top": null,
            "bottom": null,
            "display": "flex",
            "flex": null,
            "flex_flow": "column",
            "grid_area": null,
            "grid_auto_columns": null,
            "grid_auto_flow": null,
            "grid_auto_rows": null,
            "grid_column": null,
            "grid_gap": null,
            "grid_row": null,
            "grid_template_areas": null,
            "grid_template_columns": null,
            "grid_template_rows": null,
            "height": null,
            "justify_content": null,
            "justify_items": null,
            "left": null,
            "margin": null,
            "max_height": null,
            "max_width": null,
            "min_height": null,
            "min_width": null,
            "object_fit": null,
            "object_position": null,
            "order": null,
            "overflow": null,
            "padding": null,
            "right": null,
            "top": null,
            "visibility": null,
            "width": "50%"
          }
        },
        "372ae819bfef4ea4aa70cc25a0152e02": {
          "model_module": "@jupyter-widgets/base",
          "model_name": "LayoutModel",
          "model_module_version": "2.0.0",
          "state": {
            "_model_module": "@jupyter-widgets/base",
            "_model_module_version": "2.0.0",
            "_model_name": "LayoutModel",
            "_view_count": null,
            "_view_module": "@jupyter-widgets/base",
            "_view_module_version": "2.0.0",
            "_view_name": "LayoutView",
            "align_content": null,
            "align_items": null,
            "align_self": null,
            "border_bottom": null,
            "border_left": null,
            "border_right": null,
            "border_top": null,
            "bottom": null,
            "display": null,
            "flex": null,
            "flex_flow": null,
            "grid_area": null,
            "grid_auto_columns": null,
            "grid_auto_flow": null,
            "grid_auto_rows": null,
            "grid_column": null,
            "grid_gap": null,
            "grid_row": null,
            "grid_template_areas": null,
            "grid_template_columns": null,
            "grid_template_rows": null,
            "height": null,
            "justify_content": null,
            "justify_items": null,
            "left": null,
            "margin": null,
            "max_height": null,
            "max_width": null,
            "min_height": null,
            "min_width": null,
            "object_fit": null,
            "object_position": null,
            "order": null,
            "overflow": null,
            "padding": null,
            "right": null,
            "top": null,
            "visibility": null,
            "width": null
          }
        },
        "2f8b77f6541f411f98e01f0f101535eb": {
          "model_module": "@jupyter-widgets/controls",
          "model_name": "HTMLStyleModel",
          "model_module_version": "2.0.0",
          "state": {
            "_model_module": "@jupyter-widgets/controls",
            "_model_module_version": "2.0.0",
            "_model_name": "HTMLStyleModel",
            "_view_count": null,
            "_view_module": "@jupyter-widgets/base",
            "_view_module_version": "2.0.0",
            "_view_name": "StyleView",
            "background": null,
            "description_width": "",
            "font_size": null,
            "text_color": null
          }
        },
        "78a1f4cd2caa41d69496939bc26a1f3f": {
          "model_module": "@jupyter-widgets/base",
          "model_name": "LayoutModel",
          "model_module_version": "2.0.0",
          "state": {
            "_model_module": "@jupyter-widgets/base",
            "_model_module_version": "2.0.0",
            "_model_name": "LayoutModel",
            "_view_count": null,
            "_view_module": "@jupyter-widgets/base",
            "_view_module_version": "2.0.0",
            "_view_name": "LayoutView",
            "align_content": null,
            "align_items": null,
            "align_self": null,
            "border_bottom": null,
            "border_left": null,
            "border_right": null,
            "border_top": null,
            "bottom": null,
            "display": null,
            "flex": null,
            "flex_flow": null,
            "grid_area": null,
            "grid_auto_columns": null,
            "grid_auto_flow": null,
            "grid_auto_rows": null,
            "grid_column": null,
            "grid_gap": null,
            "grid_row": null,
            "grid_template_areas": null,
            "grid_template_columns": null,
            "grid_template_rows": null,
            "height": null,
            "justify_content": null,
            "justify_items": null,
            "left": null,
            "margin": null,
            "max_height": null,
            "max_width": null,
            "min_height": null,
            "min_width": null,
            "object_fit": null,
            "object_position": null,
            "order": null,
            "overflow": null,
            "padding": null,
            "right": null,
            "top": null,
            "visibility": null,
            "width": null
          }
        },
        "4b06f9ef961a40d9849b03d1bf52458b": {
          "model_module": "@jupyter-widgets/controls",
          "model_name": "TextStyleModel",
          "model_module_version": "2.0.0",
          "state": {
            "_model_module": "@jupyter-widgets/controls",
            "_model_module_version": "2.0.0",
            "_model_name": "TextStyleModel",
            "_view_count": null,
            "_view_module": "@jupyter-widgets/base",
            "_view_module_version": "2.0.0",
            "_view_name": "StyleView",
            "background": null,
            "description_width": "",
            "font_size": null,
            "text_color": null
          }
        },
        "af3a6e2c4a534933aaf619a7341f5f7d": {
          "model_module": "@jupyter-widgets/base",
          "model_name": "LayoutModel",
          "model_module_version": "2.0.0",
          "state": {
            "_model_module": "@jupyter-widgets/base",
            "_model_module_version": "2.0.0",
            "_model_name": "LayoutModel",
            "_view_count": null,
            "_view_module": "@jupyter-widgets/base",
            "_view_module_version": "2.0.0",
            "_view_name": "LayoutView",
            "align_content": null,
            "align_items": null,
            "align_self": null,
            "border_bottom": null,
            "border_left": null,
            "border_right": null,
            "border_top": null,
            "bottom": null,
            "display": null,
            "flex": null,
            "flex_flow": null,
            "grid_area": null,
            "grid_auto_columns": null,
            "grid_auto_flow": null,
            "grid_auto_rows": null,
            "grid_column": null,
            "grid_gap": null,
            "grid_row": null,
            "grid_template_areas": null,
            "grid_template_columns": null,
            "grid_template_rows": null,
            "height": null,
            "justify_content": null,
            "justify_items": null,
            "left": null,
            "margin": null,
            "max_height": null,
            "max_width": null,
            "min_height": null,
            "min_width": null,
            "object_fit": null,
            "object_position": null,
            "order": null,
            "overflow": null,
            "padding": null,
            "right": null,
            "top": null,
            "visibility": null,
            "width": null
          }
        },
        "f34a5f01945a48e8bcd85df66a6762e3": {
          "model_module": "@jupyter-widgets/controls",
          "model_name": "CheckboxStyleModel",
          "model_module_version": "2.0.0",
          "state": {
            "_model_module": "@jupyter-widgets/controls",
            "_model_module_version": "2.0.0",
            "_model_name": "CheckboxStyleModel",
            "_view_count": null,
            "_view_module": "@jupyter-widgets/base",
            "_view_module_version": "2.0.0",
            "_view_name": "StyleView",
            "background": null,
            "description_width": ""
          }
        },
        "bdb21fe325f6447487440f0aa5a41bcb": {
          "model_module": "@jupyter-widgets/base",
          "model_name": "LayoutModel",
          "model_module_version": "2.0.0",
          "state": {
            "_model_module": "@jupyter-widgets/base",
            "_model_module_version": "2.0.0",
            "_model_name": "LayoutModel",
            "_view_count": null,
            "_view_module": "@jupyter-widgets/base",
            "_view_module_version": "2.0.0",
            "_view_name": "LayoutView",
            "align_content": null,
            "align_items": null,
            "align_self": null,
            "border_bottom": null,
            "border_left": null,
            "border_right": null,
            "border_top": null,
            "bottom": null,
            "display": null,
            "flex": null,
            "flex_flow": null,
            "grid_area": null,
            "grid_auto_columns": null,
            "grid_auto_flow": null,
            "grid_auto_rows": null,
            "grid_column": null,
            "grid_gap": null,
            "grid_row": null,
            "grid_template_areas": null,
            "grid_template_columns": null,
            "grid_template_rows": null,
            "height": null,
            "justify_content": null,
            "justify_items": null,
            "left": null,
            "margin": null,
            "max_height": null,
            "max_width": null,
            "min_height": null,
            "min_width": null,
            "object_fit": null,
            "object_position": null,
            "order": null,
            "overflow": null,
            "padding": null,
            "right": null,
            "top": null,
            "visibility": null,
            "width": null
          }
        },
        "bb2934f921d54797ae1a682ce90adf76": {
          "model_module": "@jupyter-widgets/controls",
          "model_name": "ButtonStyleModel",
          "model_module_version": "2.0.0",
          "state": {
            "_model_module": "@jupyter-widgets/controls",
            "_model_module_version": "2.0.0",
            "_model_name": "ButtonStyleModel",
            "_view_count": null,
            "_view_module": "@jupyter-widgets/base",
            "_view_module_version": "2.0.0",
            "_view_name": "StyleView",
            "button_color": null,
            "font_family": null,
            "font_size": null,
            "font_style": null,
            "font_variant": null,
            "font_weight": null,
            "text_color": null,
            "text_decoration": null
          }
        },
        "3b4b4e367ac24f129acc117df5d84e22": {
          "model_module": "@jupyter-widgets/base",
          "model_name": "LayoutModel",
          "model_module_version": "2.0.0",
          "state": {
            "_model_module": "@jupyter-widgets/base",
            "_model_module_version": "2.0.0",
            "_model_name": "LayoutModel",
            "_view_count": null,
            "_view_module": "@jupyter-widgets/base",
            "_view_module_version": "2.0.0",
            "_view_name": "LayoutView",
            "align_content": null,
            "align_items": null,
            "align_self": null,
            "border_bottom": null,
            "border_left": null,
            "border_right": null,
            "border_top": null,
            "bottom": null,
            "display": null,
            "flex": null,
            "flex_flow": null,
            "grid_area": null,
            "grid_auto_columns": null,
            "grid_auto_flow": null,
            "grid_auto_rows": null,
            "grid_column": null,
            "grid_gap": null,
            "grid_row": null,
            "grid_template_areas": null,
            "grid_template_columns": null,
            "grid_template_rows": null,
            "height": null,
            "justify_content": null,
            "justify_items": null,
            "left": null,
            "margin": null,
            "max_height": null,
            "max_width": null,
            "min_height": null,
            "min_width": null,
            "object_fit": null,
            "object_position": null,
            "order": null,
            "overflow": null,
            "padding": null,
            "right": null,
            "top": null,
            "visibility": null,
            "width": null
          }
        },
        "9a9c9ba6602440358e5604e13a8c6887": {
          "model_module": "@jupyter-widgets/controls",
          "model_name": "HTMLStyleModel",
          "model_module_version": "2.0.0",
          "state": {
            "_model_module": "@jupyter-widgets/controls",
            "_model_module_version": "2.0.0",
            "_model_name": "HTMLStyleModel",
            "_view_count": null,
            "_view_module": "@jupyter-widgets/base",
            "_view_module_version": "2.0.0",
            "_view_name": "StyleView",
            "background": null,
            "description_width": "",
            "font_size": null,
            "text_color": null
          }
        },
        "f99b60de0c9f419f88b524e6b375c85a": {
          "model_module": "@jupyter-widgets/controls",
          "model_name": "HBoxModel",
          "model_module_version": "2.0.0",
          "state": {
            "_dom_classes": [],
            "_model_module": "@jupyter-widgets/controls",
            "_model_module_version": "2.0.0",
            "_model_name": "HBoxModel",
            "_view_count": null,
            "_view_module": "@jupyter-widgets/controls",
            "_view_module_version": "2.0.0",
            "_view_name": "HBoxView",
            "box_style": "",
            "children": [
              "IPY_MODEL_0ba158f4351440c58dabf5a44a22e8aa",
              "IPY_MODEL_3be265a1babc41dd922b35dad6643e5a",
              "IPY_MODEL_3e0ba6f1409546c7bfcad0edb2b5c5b3"
            ],
            "layout": "IPY_MODEL_3ce1b061b34f4b72ac4928d562f9361e",
            "tabbable": null,
            "tooltip": null
          }
        },
        "0ba158f4351440c58dabf5a44a22e8aa": {
          "model_module": "@jupyter-widgets/controls",
          "model_name": "HTMLModel",
          "model_module_version": "2.0.0",
          "state": {
            "_dom_classes": [],
            "_model_module": "@jupyter-widgets/controls",
            "_model_module_version": "2.0.0",
            "_model_name": "HTMLModel",
            "_view_count": null,
            "_view_module": "@jupyter-widgets/controls",
            "_view_module_version": "2.0.0",
            "_view_name": "HTMLView",
            "description": "",
            "description_allow_html": false,
            "layout": "IPY_MODEL_be29441b7d0a429681dad927f2f7f500",
            "placeholder": "​",
            "style": "IPY_MODEL_2d933c4ee2ee457e9cd983c96078a3b0",
            "tabbable": null,
            "tooltip": null,
            "value": ""
          }
        },
        "3be265a1babc41dd922b35dad6643e5a": {
          "model_module": "@jupyter-widgets/controls",
          "model_name": "FloatProgressModel",
          "model_module_version": "2.0.0",
          "state": {
            "_dom_classes": [],
            "_model_module": "@jupyter-widgets/controls",
            "_model_module_version": "2.0.0",
            "_model_name": "FloatProgressModel",
            "_view_count": null,
            "_view_module": "@jupyter-widgets/controls",
            "_view_module_version": "2.0.0",
            "_view_name": "ProgressView",
            "bar_style": "success",
            "description": "",
            "description_allow_html": false,
            "layout": "IPY_MODEL_b3fb565592a34540ab342cc6970968fa",
            "max": 1,
            "min": 0,
            "orientation": "horizontal",
            "style": "IPY_MODEL_2e60a3ba44574b48a11b4971bd4415c3",
            "tabbable": null,
            "tooltip": null,
            "value": 0
          }
        },
        "3e0ba6f1409546c7bfcad0edb2b5c5b3": {
          "model_module": "@jupyter-widgets/controls",
          "model_name": "HTMLModel",
          "model_module_version": "2.0.0",
          "state": {
            "_dom_classes": [],
            "_model_module": "@jupyter-widgets/controls",
            "_model_module_version": "2.0.0",
            "_model_name": "HTMLModel",
            "_view_count": null,
            "_view_module": "@jupyter-widgets/controls",
            "_view_module_version": "2.0.0",
            "_view_name": "HTMLView",
            "description": "",
            "description_allow_html": false,
            "layout": "IPY_MODEL_56a8b65f1b634269b5d595750634b95d",
            "placeholder": "​",
            "style": "IPY_MODEL_30aa830c2b9349bbb861761ed20a65d7",
            "tabbable": null,
            "tooltip": null,
            "value": " 0/0 [00:00&lt;?, ?it/s]"
          }
        },
        "3ce1b061b34f4b72ac4928d562f9361e": {
          "model_module": "@jupyter-widgets/base",
          "model_name": "LayoutModel",
          "model_module_version": "2.0.0",
          "state": {
            "_model_module": "@jupyter-widgets/base",
            "_model_module_version": "2.0.0",
            "_model_name": "LayoutModel",
            "_view_count": null,
            "_view_module": "@jupyter-widgets/base",
            "_view_module_version": "2.0.0",
            "_view_name": "LayoutView",
            "align_content": null,
            "align_items": null,
            "align_self": null,
            "border_bottom": null,
            "border_left": null,
            "border_right": null,
            "border_top": null,
            "bottom": null,
            "display": null,
            "flex": null,
            "flex_flow": null,
            "grid_area": null,
            "grid_auto_columns": null,
            "grid_auto_flow": null,
            "grid_auto_rows": null,
            "grid_column": null,
            "grid_gap": null,
            "grid_row": null,
            "grid_template_areas": null,
            "grid_template_columns": null,
            "grid_template_rows": null,
            "height": null,
            "justify_content": null,
            "justify_items": null,
            "left": null,
            "margin": null,
            "max_height": null,
            "max_width": null,
            "min_height": null,
            "min_width": null,
            "object_fit": null,
            "object_position": null,
            "order": null,
            "overflow": null,
            "padding": null,
            "right": null,
            "top": null,
            "visibility": null,
            "width": null
          }
        },
        "be29441b7d0a429681dad927f2f7f500": {
          "model_module": "@jupyter-widgets/base",
          "model_name": "LayoutModel",
          "model_module_version": "2.0.0",
          "state": {
            "_model_module": "@jupyter-widgets/base",
            "_model_module_version": "2.0.0",
            "_model_name": "LayoutModel",
            "_view_count": null,
            "_view_module": "@jupyter-widgets/base",
            "_view_module_version": "2.0.0",
            "_view_name": "LayoutView",
            "align_content": null,
            "align_items": null,
            "align_self": null,
            "border_bottom": null,
            "border_left": null,
            "border_right": null,
            "border_top": null,
            "bottom": null,
            "display": null,
            "flex": null,
            "flex_flow": null,
            "grid_area": null,
            "grid_auto_columns": null,
            "grid_auto_flow": null,
            "grid_auto_rows": null,
            "grid_column": null,
            "grid_gap": null,
            "grid_row": null,
            "grid_template_areas": null,
            "grid_template_columns": null,
            "grid_template_rows": null,
            "height": null,
            "justify_content": null,
            "justify_items": null,
            "left": null,
            "margin": null,
            "max_height": null,
            "max_width": null,
            "min_height": null,
            "min_width": null,
            "object_fit": null,
            "object_position": null,
            "order": null,
            "overflow": null,
            "padding": null,
            "right": null,
            "top": null,
            "visibility": null,
            "width": null
          }
        },
        "2d933c4ee2ee457e9cd983c96078a3b0": {
          "model_module": "@jupyter-widgets/controls",
          "model_name": "HTMLStyleModel",
          "model_module_version": "2.0.0",
          "state": {
            "_model_module": "@jupyter-widgets/controls",
            "_model_module_version": "2.0.0",
            "_model_name": "HTMLStyleModel",
            "_view_count": null,
            "_view_module": "@jupyter-widgets/base",
            "_view_module_version": "2.0.0",
            "_view_name": "StyleView",
            "background": null,
            "description_width": "",
            "font_size": null,
            "text_color": null
          }
        },
        "b3fb565592a34540ab342cc6970968fa": {
          "model_module": "@jupyter-widgets/base",
          "model_name": "LayoutModel",
          "model_module_version": "2.0.0",
          "state": {
            "_model_module": "@jupyter-widgets/base",
            "_model_module_version": "2.0.0",
            "_model_name": "LayoutModel",
            "_view_count": null,
            "_view_module": "@jupyter-widgets/base",
            "_view_module_version": "2.0.0",
            "_view_name": "LayoutView",
            "align_content": null,
            "align_items": null,
            "align_self": null,
            "border_bottom": null,
            "border_left": null,
            "border_right": null,
            "border_top": null,
            "bottom": null,
            "display": null,
            "flex": null,
            "flex_flow": null,
            "grid_area": null,
            "grid_auto_columns": null,
            "grid_auto_flow": null,
            "grid_auto_rows": null,
            "grid_column": null,
            "grid_gap": null,
            "grid_row": null,
            "grid_template_areas": null,
            "grid_template_columns": null,
            "grid_template_rows": null,
            "height": null,
            "justify_content": null,
            "justify_items": null,
            "left": null,
            "margin": null,
            "max_height": null,
            "max_width": null,
            "min_height": null,
            "min_width": null,
            "object_fit": null,
            "object_position": null,
            "order": null,
            "overflow": null,
            "padding": null,
            "right": null,
            "top": null,
            "visibility": null,
            "width": "20px"
          }
        },
        "2e60a3ba44574b48a11b4971bd4415c3": {
          "model_module": "@jupyter-widgets/controls",
          "model_name": "ProgressStyleModel",
          "model_module_version": "2.0.0",
          "state": {
            "_model_module": "@jupyter-widgets/controls",
            "_model_module_version": "2.0.0",
            "_model_name": "ProgressStyleModel",
            "_view_count": null,
            "_view_module": "@jupyter-widgets/base",
            "_view_module_version": "2.0.0",
            "_view_name": "StyleView",
            "bar_color": null,
            "description_width": ""
          }
        },
        "56a8b65f1b634269b5d595750634b95d": {
          "model_module": "@jupyter-widgets/base",
          "model_name": "LayoutModel",
          "model_module_version": "2.0.0",
          "state": {
            "_model_module": "@jupyter-widgets/base",
            "_model_module_version": "2.0.0",
            "_model_name": "LayoutModel",
            "_view_count": null,
            "_view_module": "@jupyter-widgets/base",
            "_view_module_version": "2.0.0",
            "_view_name": "LayoutView",
            "align_content": null,
            "align_items": null,
            "align_self": null,
            "border_bottom": null,
            "border_left": null,
            "border_right": null,
            "border_top": null,
            "bottom": null,
            "display": null,
            "flex": null,
            "flex_flow": null,
            "grid_area": null,
            "grid_auto_columns": null,
            "grid_auto_flow": null,
            "grid_auto_rows": null,
            "grid_column": null,
            "grid_gap": null,
            "grid_row": null,
            "grid_template_areas": null,
            "grid_template_columns": null,
            "grid_template_rows": null,
            "height": null,
            "justify_content": null,
            "justify_items": null,
            "left": null,
            "margin": null,
            "max_height": null,
            "max_width": null,
            "min_height": null,
            "min_width": null,
            "object_fit": null,
            "object_position": null,
            "order": null,
            "overflow": null,
            "padding": null,
            "right": null,
            "top": null,
            "visibility": null,
            "width": null
          }
        },
        "30aa830c2b9349bbb861761ed20a65d7": {
          "model_module": "@jupyter-widgets/controls",
          "model_name": "HTMLStyleModel",
          "model_module_version": "2.0.0",
          "state": {
            "_model_module": "@jupyter-widgets/controls",
            "_model_module_version": "2.0.0",
            "_model_name": "HTMLStyleModel",
            "_view_count": null,
            "_view_module": "@jupyter-widgets/base",
            "_view_module_version": "2.0.0",
            "_view_name": "StyleView",
            "background": null,
            "description_width": "",
            "font_size": null,
            "text_color": null
          }
        }
      }
    }
  },
  "cells": [
    {
      "cell_type": "markdown",
      "source": [
        "# Notebook for the extension of the project\n",
        "\n",
        "This note book is the extension part of the project of the cource Advanced Machine Learning teached at Politecnico di Torino.\n",
        "\n",
        "In this notebook we create a simulated a real-life application of quality control in a production line. The products that are in distribution are products that are produced correctly. While products that are out of distribution is assumed to be defect.\n",
        "\n",
        "We used code and data from the 3DOS paper and the OpenShape paper\n",
        "\n",
        "Open shape:\n",
        "@misc{liu2023openshape,\n",
        "      title={OpenShape: Scaling Up 3D Shape Representation Towards Open-World Understanding},\n",
        "      author={Minghua Liu and Ruoxi Shi and Kaiming Kuang and Yinhao Zhu and Xuanlin Li and Shizhong Han and Hong Cai and Fatih Porikli and Hao Su},\n",
        "      year={2023},\n",
        "      eprint={2305.10764},\n",
        "      archivePrefix={arXiv},\n",
        "      primaryClass={cs.CV}\n",
        "}\n",
        "\n",
        "3DOS:\n",
        "@inproceedings{\n",
        "alliegro2022towards,\n",
        "title={Towards Open Set 3D Learning: Benchmarking and Understanding Semantic Novelty Detection on Pointclouds},\n",
        "author={Antonio Alliegro and Francesco Cappio Borlino and Tatiana Tommasi},\n",
        "booktitle={Thirty-sixth Conference on Neural Information Processing Systems Datasets and Benchmarks Track},\n",
        "year={2022},\n",
        "url={https://openreview.net/forum?id=X2dHozbd1at}\n",
        "}"
      ],
      "metadata": {
        "id": "9teFaLRdlp5Z"
      }
    },
    {
      "cell_type": "markdown",
      "source": [
        "# Clone git repos to environment"
      ],
      "metadata": {
        "id": "W_I1PHBrhadT"
      }
    },
    {
      "cell_type": "code",
      "source": [
        "\n",
        "!git clone https://github.com/Colin97/OpenShape_code.git\n",
        "# Make sure you have git-lfs installed (https://git-lfs.com)\n",
        "!git lfs install\n",
        "!git clone https://huggingface.co/spaces/OpenShape/openshape-demo\n",
        "\n",
        "# if you want to clone without large files – just their pointers\n",
        "# prepend your git clone with the following env var:\n",
        "!GIT_LFS_SKIP_SMUDGE=1\n",
        "#!pip install -e .\n",
        "!git clone https://huggingface.co/OpenShape/openshape-demo-support\n"
      ],
      "metadata": {
        "id": "i2PTprijZ5vV",
        "colab": {
          "base_uri": "https://localhost:8080/"
        },
        "outputId": "13177bba-6e03-4328-df04-1ff8843c1e89"
      },
      "execution_count": 2,
      "outputs": [
        {
          "output_type": "stream",
          "name": "stdout",
          "text": [
            "Cloning into 'OpenShape_code'...\n",
            "remote: Enumerating objects: 119, done.\u001b[K\n",
            "remote: Counting objects: 100% (39/39), done.\u001b[K\n",
            "remote: Compressing objects: 100% (27/27), done.\u001b[K\n",
            "remote: Total 119 (delta 31), reused 12 (delta 12), pack-reused 80\u001b[K\n",
            "Receiving objects: 100% (119/119), 3.45 MiB | 26.01 MiB/s, done.\n",
            "Resolving deltas: 100% (46/46), done.\n",
            "Git LFS initialized.\n",
            "Cloning into 'openshape-demo'...\n",
            "remote: Enumerating objects: 188, done.\u001b[K\n",
            "remote: Total 188 (delta 0), reused 0 (delta 0), pack-reused 188\u001b[K\n",
            "Receiving objects: 100% (188/188), 1.44 MiB | 5.36 MiB/s, done.\n",
            "Resolving deltas: 100% (81/81), done.\n",
            "Cloning into 'openshape-demo-support'...\n",
            "remote: Enumerating objects: 102, done.\u001b[K\n",
            "remote: Counting objects: 100% (19/19), done.\u001b[K\n",
            "remote: Compressing objects: 100% (19/19), done.\u001b[K\n",
            "remote: Total 102 (delta 9), reused 0 (delta 0), pack-reused 83\u001b[K\n",
            "Receiving objects: 100% (102/102), 28.53 KiB | 14.26 MiB/s, done.\n",
            "Resolving deltas: 100% (56/56), done.\n"
          ]
        }
      ]
    },
    {
      "cell_type": "markdown",
      "source": [
        "# Install dependencies\n",
        "Most dependencies are already satisfied by default in google colab"
      ],
      "metadata": {
        "id": "Jw-TaS50jZlp"
      }
    },
    {
      "cell_type": "code",
      "source": [
        "!pip install huggingface_hub wandb omegaconf torch_redstone einops tqdm open3d dgl timm\n",
        "!pip install --upgrade https://github.com/unlimblue/KNN_CUDA/releases/download/0.2/KNN_CUDA-0.2-py3-none-any.whl\n"
      ],
      "metadata": {
        "colab": {
          "base_uri": "https://localhost:8080/",
          "height": 1000
        },
        "id": "4PSbBCbC26vP",
        "outputId": "85698045-a9cc-4dd4-94b8-9a21070f7292"
      },
      "execution_count": 3,
      "outputs": [
        {
          "output_type": "stream",
          "name": "stdout",
          "text": [
            "Requirement already satisfied: huggingface_hub in /usr/local/lib/python3.10/dist-packages (0.20.3)\n",
            "Collecting wandb\n",
            "  Downloading wandb-0.16.3-py3-none-any.whl (2.2 MB)\n",
            "\u001b[2K     \u001b[90m━━━━━━━━━━━━━━━━━━━━━━━━━━━━━━━━━━━━━━━━\u001b[0m \u001b[32m2.2/2.2 MB\u001b[0m \u001b[31m39.7 MB/s\u001b[0m eta \u001b[36m0:00:00\u001b[0m\n",
            "\u001b[?25hCollecting omegaconf\n",
            "  Downloading omegaconf-2.3.0-py3-none-any.whl (79 kB)\n",
            "\u001b[2K     \u001b[90m━━━━━━━━━━━━━━━━━━━━━━━━━━━━━━━━━━━━━━━━\u001b[0m \u001b[32m79.5/79.5 kB\u001b[0m \u001b[31m12.8 MB/s\u001b[0m eta \u001b[36m0:00:00\u001b[0m\n",
            "\u001b[?25hCollecting torch_redstone\n",
            "  Downloading torch.redstone-0.0.5-py3-none-any.whl (18 kB)\n",
            "Collecting einops\n",
            "  Downloading einops-0.7.0-py3-none-any.whl (44 kB)\n",
            "\u001b[2K     \u001b[90m━━━━━━━━━━━━━━━━━━━━━━━━━━━━━━━━━━━━━━━━\u001b[0m \u001b[32m44.6/44.6 kB\u001b[0m \u001b[31m7.2 MB/s\u001b[0m eta \u001b[36m0:00:00\u001b[0m\n",
            "\u001b[?25hRequirement already satisfied: tqdm in /usr/local/lib/python3.10/dist-packages (4.66.2)\n",
            "Collecting open3d\n",
            "  Downloading open3d-0.18.0-cp310-cp310-manylinux_2_27_x86_64.whl (399.7 MB)\n",
            "\u001b[2K     \u001b[90m━━━━━━━━━━━━━━━━━━━━━━━━━━━━━━━━━━━━━━━━\u001b[0m \u001b[32m399.7/399.7 MB\u001b[0m \u001b[31m3.0 MB/s\u001b[0m eta \u001b[36m0:00:00\u001b[0m\n",
            "\u001b[?25hCollecting dgl\n",
            "  Downloading dgl-1.1.3-cp310-cp310-manylinux1_x86_64.whl (6.5 MB)\n",
            "\u001b[2K     \u001b[90m━━━━━━━━━━━━━━━━━━━━━━━━━━━━━━━━━━━━━━━━\u001b[0m \u001b[32m6.5/6.5 MB\u001b[0m \u001b[31m27.2 MB/s\u001b[0m eta \u001b[36m0:00:00\u001b[0m\n",
            "\u001b[?25hCollecting timm\n",
            "  Downloading timm-0.9.12-py3-none-any.whl (2.2 MB)\n",
            "\u001b[2K     \u001b[90m━━━━━━━━━━━━━━━━━━━━━━━━━━━━━━━━━━━━━━━━\u001b[0m \u001b[32m2.2/2.2 MB\u001b[0m \u001b[31m45.3 MB/s\u001b[0m eta \u001b[36m0:00:00\u001b[0m\n",
            "\u001b[?25hRequirement already satisfied: filelock in /usr/local/lib/python3.10/dist-packages (from huggingface_hub) (3.13.1)\n",
            "Requirement already satisfied: fsspec>=2023.5.0 in /usr/local/lib/python3.10/dist-packages (from huggingface_hub) (2023.6.0)\n",
            "Requirement already satisfied: requests in /usr/local/lib/python3.10/dist-packages (from huggingface_hub) (2.31.0)\n",
            "Requirement already satisfied: pyyaml>=5.1 in /usr/local/lib/python3.10/dist-packages (from huggingface_hub) (6.0.1)\n",
            "Requirement already satisfied: typing-extensions>=3.7.4.3 in /usr/local/lib/python3.10/dist-packages (from huggingface_hub) (4.9.0)\n",
            "Requirement already satisfied: packaging>=20.9 in /usr/local/lib/python3.10/dist-packages (from huggingface_hub) (23.2)\n",
            "Requirement already satisfied: Click!=8.0.0,>=7.1 in /usr/local/lib/python3.10/dist-packages (from wandb) (8.1.7)\n",
            "Collecting GitPython!=3.1.29,>=1.0.0 (from wandb)\n",
            "  Downloading GitPython-3.1.42-py3-none-any.whl (195 kB)\n",
            "\u001b[2K     \u001b[90m━━━━━━━━━━━━━━━━━━━━━━━━━━━━━━━━━━━━━━━━\u001b[0m \u001b[32m195.4/195.4 kB\u001b[0m \u001b[31m6.8 MB/s\u001b[0m eta \u001b[36m0:00:00\u001b[0m\n",
            "\u001b[?25hRequirement already satisfied: psutil>=5.0.0 in /usr/local/lib/python3.10/dist-packages (from wandb) (5.9.5)\n",
            "Collecting sentry-sdk>=1.0.0 (from wandb)\n",
            "  Downloading sentry_sdk-1.40.5-py2.py3-none-any.whl (258 kB)\n",
            "\u001b[2K     \u001b[90m━━━━━━━━━━━━━━━━━━━━━━━━━━━━━━━━━━━━━━━━\u001b[0m \u001b[32m258.5/258.5 kB\u001b[0m \u001b[31m33.3 MB/s\u001b[0m eta \u001b[36m0:00:00\u001b[0m\n",
            "\u001b[?25hCollecting docker-pycreds>=0.4.0 (from wandb)\n",
            "  Downloading docker_pycreds-0.4.0-py2.py3-none-any.whl (9.0 kB)\n",
            "Collecting setproctitle (from wandb)\n",
            "  Downloading setproctitle-1.3.3-cp310-cp310-manylinux_2_5_x86_64.manylinux1_x86_64.manylinux_2_17_x86_64.manylinux2014_x86_64.whl (30 kB)\n",
            "Requirement already satisfied: setuptools in /usr/local/lib/python3.10/dist-packages (from wandb) (67.7.2)\n",
            "Requirement already satisfied: appdirs>=1.4.3 in /usr/local/lib/python3.10/dist-packages (from wandb) (1.4.4)\n",
            "Requirement already satisfied: protobuf!=4.21.0,<5,>=3.19.0 in /usr/local/lib/python3.10/dist-packages (from wandb) (3.20.3)\n",
            "Collecting antlr4-python3-runtime==4.9.* (from omegaconf)\n",
            "  Downloading antlr4-python3-runtime-4.9.3.tar.gz (117 kB)\n",
            "\u001b[2K     \u001b[90m━━━━━━━━━━━━━━━━━━━━━━━━━━━━━━━━━━━━━━━━\u001b[0m \u001b[32m117.0/117.0 kB\u001b[0m \u001b[31m19.2 MB/s\u001b[0m eta \u001b[36m0:00:00\u001b[0m\n",
            "\u001b[?25h  Preparing metadata (setup.py) ... \u001b[?25l\u001b[?25hdone\n",
            "Requirement already satisfied: numpy in /usr/local/lib/python3.10/dist-packages (from torch_redstone) (1.25.2)\n",
            "Collecting dash>=2.6.0 (from open3d)\n",
            "  Downloading dash-2.15.0-py3-none-any.whl (10.2 MB)\n",
            "\u001b[2K     \u001b[90m━━━━━━━━━━━━━━━━━━━━━━━━━━━━━━━━━━━━━━━━\u001b[0m \u001b[32m10.2/10.2 MB\u001b[0m \u001b[31m88.2 MB/s\u001b[0m eta \u001b[36m0:00:00\u001b[0m\n",
            "\u001b[?25hRequirement already satisfied: werkzeug>=2.2.3 in /usr/local/lib/python3.10/dist-packages (from open3d) (3.0.1)\n",
            "Requirement already satisfied: nbformat>=5.7.0 in /usr/local/lib/python3.10/dist-packages (from open3d) (5.9.2)\n",
            "Collecting configargparse (from open3d)\n",
            "  Downloading ConfigArgParse-1.7-py3-none-any.whl (25 kB)\n",
            "Collecting ipywidgets>=8.0.4 (from open3d)\n",
            "  Downloading ipywidgets-8.1.2-py3-none-any.whl (139 kB)\n",
            "\u001b[2K     \u001b[90m━━━━━━━━━━━━━━━━━━━━━━━━━━━━━━━━━━━━━━━━\u001b[0m \u001b[32m139.4/139.4 kB\u001b[0m \u001b[31m21.8 MB/s\u001b[0m eta \u001b[36m0:00:00\u001b[0m\n",
            "\u001b[?25hCollecting addict (from open3d)\n",
            "  Downloading addict-2.4.0-py3-none-any.whl (3.8 kB)\n",
            "Requirement already satisfied: pillow>=9.3.0 in /usr/local/lib/python3.10/dist-packages (from open3d) (9.4.0)\n",
            "Requirement already satisfied: matplotlib>=3 in /usr/local/lib/python3.10/dist-packages (from open3d) (3.7.1)\n",
            "Requirement already satisfied: pandas>=1.0 in /usr/local/lib/python3.10/dist-packages (from open3d) (1.5.3)\n",
            "Requirement already satisfied: scikit-learn>=0.21 in /usr/local/lib/python3.10/dist-packages (from open3d) (1.2.2)\n",
            "Collecting pyquaternion (from open3d)\n",
            "  Downloading pyquaternion-0.9.9-py3-none-any.whl (14 kB)\n",
            "Requirement already satisfied: scipy>=1.1.0 in /usr/local/lib/python3.10/dist-packages (from dgl) (1.11.4)\n",
            "Requirement already satisfied: networkx>=2.1 in /usr/local/lib/python3.10/dist-packages (from dgl) (3.2.1)\n",
            "Requirement already satisfied: torch>=1.7 in /usr/local/lib/python3.10/dist-packages (from timm) (2.1.0+cu121)\n",
            "Requirement already satisfied: torchvision in /usr/local/lib/python3.10/dist-packages (from timm) (0.16.0+cu121)\n",
            "Requirement already satisfied: safetensors in /usr/local/lib/python3.10/dist-packages (from timm) (0.4.2)\n",
            "Requirement already satisfied: Flask<3.1,>=1.0.4 in /usr/local/lib/python3.10/dist-packages (from dash>=2.6.0->open3d) (2.2.5)\n",
            "Requirement already satisfied: plotly>=5.0.0 in /usr/local/lib/python3.10/dist-packages (from dash>=2.6.0->open3d) (5.15.0)\n",
            "Collecting dash-html-components==2.0.0 (from dash>=2.6.0->open3d)\n",
            "  Downloading dash_html_components-2.0.0-py3-none-any.whl (4.1 kB)\n",
            "Collecting dash-core-components==2.0.0 (from dash>=2.6.0->open3d)\n",
            "  Downloading dash_core_components-2.0.0-py3-none-any.whl (3.8 kB)\n",
            "Collecting dash-table==5.0.0 (from dash>=2.6.0->open3d)\n",
            "  Downloading dash_table-5.0.0-py3-none-any.whl (3.9 kB)\n",
            "Collecting retrying (from dash>=2.6.0->open3d)\n",
            "  Downloading retrying-1.3.4-py3-none-any.whl (11 kB)\n",
            "Requirement already satisfied: nest-asyncio in /usr/local/lib/python3.10/dist-packages (from dash>=2.6.0->open3d) (1.6.0)\n",
            "Requirement already satisfied: importlib-metadata in /usr/local/lib/python3.10/dist-packages (from dash>=2.6.0->open3d) (7.0.1)\n",
            "Requirement already satisfied: six>=1.4.0 in /usr/local/lib/python3.10/dist-packages (from docker-pycreds>=0.4.0->wandb) (1.16.0)\n",
            "Collecting gitdb<5,>=4.0.1 (from GitPython!=3.1.29,>=1.0.0->wandb)\n",
            "  Downloading gitdb-4.0.11-py3-none-any.whl (62 kB)\n",
            "\u001b[2K     \u001b[90m━━━━━━━━━━━━━━━━━━━━━━━━━━━━━━━━━━━━━━━━\u001b[0m \u001b[32m62.7/62.7 kB\u001b[0m \u001b[31m9.6 MB/s\u001b[0m eta \u001b[36m0:00:00\u001b[0m\n",
            "\u001b[?25hCollecting comm>=0.1.3 (from ipywidgets>=8.0.4->open3d)\n",
            "  Downloading comm-0.2.1-py3-none-any.whl (7.2 kB)\n",
            "Requirement already satisfied: ipython>=6.1.0 in /usr/local/lib/python3.10/dist-packages (from ipywidgets>=8.0.4->open3d) (7.34.0)\n",
            "Requirement already satisfied: traitlets>=4.3.1 in /usr/local/lib/python3.10/dist-packages (from ipywidgets>=8.0.4->open3d) (5.7.1)\n",
            "Collecting widgetsnbextension~=4.0.10 (from ipywidgets>=8.0.4->open3d)\n",
            "  Downloading widgetsnbextension-4.0.10-py3-none-any.whl (2.3 MB)\n",
            "\u001b[2K     \u001b[90m━━━━━━━━━━━━━━━━━━━━━━━━━━━━━━━━━━━━━━━━\u001b[0m \u001b[32m2.3/2.3 MB\u001b[0m \u001b[31m91.3 MB/s\u001b[0m eta \u001b[36m0:00:00\u001b[0m\n",
            "\u001b[?25hRequirement already satisfied: jupyterlab-widgets~=3.0.10 in /usr/local/lib/python3.10/dist-packages (from ipywidgets>=8.0.4->open3d) (3.0.10)\n",
            "Requirement already satisfied: contourpy>=1.0.1 in /usr/local/lib/python3.10/dist-packages (from matplotlib>=3->open3d) (1.2.0)\n",
            "Requirement already satisfied: cycler>=0.10 in /usr/local/lib/python3.10/dist-packages (from matplotlib>=3->open3d) (0.12.1)\n",
            "Requirement already satisfied: fonttools>=4.22.0 in /usr/local/lib/python3.10/dist-packages (from matplotlib>=3->open3d) (4.48.1)\n",
            "Requirement already satisfied: kiwisolver>=1.0.1 in /usr/local/lib/python3.10/dist-packages (from matplotlib>=3->open3d) (1.4.5)\n",
            "Requirement already satisfied: pyparsing>=2.3.1 in /usr/local/lib/python3.10/dist-packages (from matplotlib>=3->open3d) (3.1.1)\n",
            "Requirement already satisfied: python-dateutil>=2.7 in /usr/local/lib/python3.10/dist-packages (from matplotlib>=3->open3d) (2.8.2)\n",
            "Requirement already satisfied: fastjsonschema in /usr/local/lib/python3.10/dist-packages (from nbformat>=5.7.0->open3d) (2.19.1)\n",
            "Requirement already satisfied: jsonschema>=2.6 in /usr/local/lib/python3.10/dist-packages (from nbformat>=5.7.0->open3d) (4.19.2)\n",
            "Requirement already satisfied: jupyter-core in /usr/local/lib/python3.10/dist-packages (from nbformat>=5.7.0->open3d) (5.7.1)\n",
            "Requirement already satisfied: pytz>=2020.1 in /usr/local/lib/python3.10/dist-packages (from pandas>=1.0->open3d) (2023.4)\n",
            "Requirement already satisfied: charset-normalizer<4,>=2 in /usr/local/lib/python3.10/dist-packages (from requests->huggingface_hub) (3.3.2)\n",
            "Requirement already satisfied: idna<4,>=2.5 in /usr/local/lib/python3.10/dist-packages (from requests->huggingface_hub) (3.6)\n",
            "Requirement already satisfied: urllib3<3,>=1.21.1 in /usr/local/lib/python3.10/dist-packages (from requests->huggingface_hub) (2.0.7)\n",
            "Requirement already satisfied: certifi>=2017.4.17 in /usr/local/lib/python3.10/dist-packages (from requests->huggingface_hub) (2024.2.2)\n",
            "Requirement already satisfied: joblib>=1.1.1 in /usr/local/lib/python3.10/dist-packages (from scikit-learn>=0.21->open3d) (1.3.2)\n",
            "Requirement already satisfied: threadpoolctl>=2.0.0 in /usr/local/lib/python3.10/dist-packages (from scikit-learn>=0.21->open3d) (3.2.0)\n",
            "Requirement already satisfied: sympy in /usr/local/lib/python3.10/dist-packages (from torch>=1.7->timm) (1.12)\n",
            "Requirement already satisfied: jinja2 in /usr/local/lib/python3.10/dist-packages (from torch>=1.7->timm) (3.1.3)\n",
            "Requirement already satisfied: triton==2.1.0 in /usr/local/lib/python3.10/dist-packages (from torch>=1.7->timm) (2.1.0)\n",
            "Requirement already satisfied: MarkupSafe>=2.1.1 in /usr/local/lib/python3.10/dist-packages (from werkzeug>=2.2.3->open3d) (2.1.5)\n",
            "Requirement already satisfied: itsdangerous>=2.0 in /usr/local/lib/python3.10/dist-packages (from Flask<3.1,>=1.0.4->dash>=2.6.0->open3d) (2.1.2)\n",
            "Collecting smmap<6,>=3.0.1 (from gitdb<5,>=4.0.1->GitPython!=3.1.29,>=1.0.0->wandb)\n",
            "  Downloading smmap-5.0.1-py3-none-any.whl (24 kB)\n",
            "Collecting jedi>=0.16 (from ipython>=6.1.0->ipywidgets>=8.0.4->open3d)\n",
            "  Downloading jedi-0.19.1-py2.py3-none-any.whl (1.6 MB)\n",
            "\u001b[2K     \u001b[90m━━━━━━━━━━━━━━━━━━━━━━━━━━━━━━━━━━━━━━━━\u001b[0m \u001b[32m1.6/1.6 MB\u001b[0m \u001b[31m90.1 MB/s\u001b[0m eta \u001b[36m0:00:00\u001b[0m\n",
            "\u001b[?25hRequirement already satisfied: decorator in /usr/local/lib/python3.10/dist-packages (from ipython>=6.1.0->ipywidgets>=8.0.4->open3d) (4.4.2)\n",
            "Requirement already satisfied: pickleshare in /usr/local/lib/python3.10/dist-packages (from ipython>=6.1.0->ipywidgets>=8.0.4->open3d) (0.7.5)\n",
            "Requirement already satisfied: prompt-toolkit!=3.0.0,!=3.0.1,<3.1.0,>=2.0.0 in /usr/local/lib/python3.10/dist-packages (from ipython>=6.1.0->ipywidgets>=8.0.4->open3d) (3.0.43)\n",
            "Requirement already satisfied: pygments in /usr/local/lib/python3.10/dist-packages (from ipython>=6.1.0->ipywidgets>=8.0.4->open3d) (2.16.1)\n",
            "Requirement already satisfied: backcall in /usr/local/lib/python3.10/dist-packages (from ipython>=6.1.0->ipywidgets>=8.0.4->open3d) (0.2.0)\n",
            "Requirement already satisfied: matplotlib-inline in /usr/local/lib/python3.10/dist-packages (from ipython>=6.1.0->ipywidgets>=8.0.4->open3d) (0.1.6)\n",
            "Requirement already satisfied: pexpect>4.3 in /usr/local/lib/python3.10/dist-packages (from ipython>=6.1.0->ipywidgets>=8.0.4->open3d) (4.9.0)\n",
            "Requirement already satisfied: attrs>=22.2.0 in /usr/local/lib/python3.10/dist-packages (from jsonschema>=2.6->nbformat>=5.7.0->open3d) (23.2.0)\n",
            "Requirement already satisfied: jsonschema-specifications>=2023.03.6 in /usr/local/lib/python3.10/dist-packages (from jsonschema>=2.6->nbformat>=5.7.0->open3d) (2023.12.1)\n",
            "Requirement already satisfied: referencing>=0.28.4 in /usr/local/lib/python3.10/dist-packages (from jsonschema>=2.6->nbformat>=5.7.0->open3d) (0.33.0)\n",
            "Requirement already satisfied: rpds-py>=0.7.1 in /usr/local/lib/python3.10/dist-packages (from jsonschema>=2.6->nbformat>=5.7.0->open3d) (0.17.1)\n",
            "Requirement already satisfied: tenacity>=6.2.0 in /usr/local/lib/python3.10/dist-packages (from plotly>=5.0.0->dash>=2.6.0->open3d) (8.2.3)\n",
            "Requirement already satisfied: zipp>=0.5 in /usr/local/lib/python3.10/dist-packages (from importlib-metadata->dash>=2.6.0->open3d) (3.17.0)\n",
            "Requirement already satisfied: platformdirs>=2.5 in /usr/local/lib/python3.10/dist-packages (from jupyter-core->nbformat>=5.7.0->open3d) (4.2.0)\n",
            "Requirement already satisfied: mpmath>=0.19 in /usr/local/lib/python3.10/dist-packages (from sympy->torch>=1.7->timm) (1.3.0)\n",
            "Requirement already satisfied: parso<0.9.0,>=0.8.3 in /usr/local/lib/python3.10/dist-packages (from jedi>=0.16->ipython>=6.1.0->ipywidgets>=8.0.4->open3d) (0.8.3)\n",
            "Requirement already satisfied: ptyprocess>=0.5 in /usr/local/lib/python3.10/dist-packages (from pexpect>4.3->ipython>=6.1.0->ipywidgets>=8.0.4->open3d) (0.7.0)\n",
            "Requirement already satisfied: wcwidth in /usr/local/lib/python3.10/dist-packages (from prompt-toolkit!=3.0.0,!=3.0.1,<3.1.0,>=2.0.0->ipython>=6.1.0->ipywidgets>=8.0.4->open3d) (0.2.13)\n",
            "Building wheels for collected packages: antlr4-python3-runtime\n",
            "  Building wheel for antlr4-python3-runtime (setup.py) ... \u001b[?25l\u001b[?25hdone\n",
            "  Created wheel for antlr4-python3-runtime: filename=antlr4_python3_runtime-4.9.3-py3-none-any.whl size=144554 sha256=2d117c5018caa428adf06c4bbaa5ac826cf6ebc0e188a1d8644973270e68dab1\n",
            "  Stored in directory: /root/.cache/pip/wheels/12/93/dd/1f6a127edc45659556564c5730f6d4e300888f4bca2d4c5a88\n",
            "Successfully built antlr4-python3-runtime\n",
            "Installing collected packages: dash-table, dash-html-components, dash-core-components, antlr4-python3-runtime, addict, widgetsnbextension, torch_redstone, smmap, setproctitle, sentry-sdk, retrying, pyquaternion, omegaconf, jedi, einops, docker-pycreds, configargparse, comm, gitdb, dgl, ipywidgets, GitPython, dash, wandb, timm, open3d\n",
            "  Attempting uninstall: widgetsnbextension\n",
            "    Found existing installation: widgetsnbextension 3.6.6\n",
            "    Uninstalling widgetsnbextension-3.6.6:\n",
            "      Successfully uninstalled widgetsnbextension-3.6.6\n",
            "  Attempting uninstall: ipywidgets\n",
            "    Found existing installation: ipywidgets 7.7.1\n",
            "    Uninstalling ipywidgets-7.7.1:\n",
            "      Successfully uninstalled ipywidgets-7.7.1\n",
            "Successfully installed GitPython-3.1.42 addict-2.4.0 antlr4-python3-runtime-4.9.3 comm-0.2.1 configargparse-1.7 dash-2.15.0 dash-core-components-2.0.0 dash-html-components-2.0.0 dash-table-5.0.0 dgl-1.1.3 docker-pycreds-0.4.0 einops-0.7.0 gitdb-4.0.11 ipywidgets-8.1.2 jedi-0.19.1 omegaconf-2.3.0 open3d-0.18.0 pyquaternion-0.9.9 retrying-1.3.4 sentry-sdk-1.40.5 setproctitle-1.3.3 smmap-5.0.1 timm-0.9.12 torch_redstone-0.0.5 wandb-0.16.3 widgetsnbextension-4.0.10\n"
          ]
        },
        {
          "output_type": "display_data",
          "data": {
            "application/vnd.colab-display-data+json": {
              "pip_warning": {
                "packages": [
                  "pydevd_plugins"
                ]
              }
            }
          },
          "metadata": {}
        },
        {
          "output_type": "stream",
          "name": "stdout",
          "text": [
            "Collecting KNN-CUDA==0.2\n",
            "  Downloading https://github.com/unlimblue/KNN_CUDA/releases/download/0.2/KNN_CUDA-0.2-py3-none-any.whl (5.7 kB)\n",
            "Requirement already satisfied: numpy in /usr/local/lib/python3.10/dist-packages (from KNN-CUDA==0.2) (1.25.2)\n",
            "Requirement already satisfied: scikit-learn in /usr/local/lib/python3.10/dist-packages (from KNN-CUDA==0.2) (1.2.2)\n",
            "Requirement already satisfied: torch>=1.1.0 in /usr/local/lib/python3.10/dist-packages (from KNN-CUDA==0.2) (2.1.0+cu121)\n",
            "Requirement already satisfied: filelock in /usr/local/lib/python3.10/dist-packages (from torch>=1.1.0->KNN-CUDA==0.2) (3.13.1)\n",
            "Requirement already satisfied: typing-extensions in /usr/local/lib/python3.10/dist-packages (from torch>=1.1.0->KNN-CUDA==0.2) (4.9.0)\n",
            "Requirement already satisfied: sympy in /usr/local/lib/python3.10/dist-packages (from torch>=1.1.0->KNN-CUDA==0.2) (1.12)\n",
            "Requirement already satisfied: networkx in /usr/local/lib/python3.10/dist-packages (from torch>=1.1.0->KNN-CUDA==0.2) (3.2.1)\n",
            "Requirement already satisfied: jinja2 in /usr/local/lib/python3.10/dist-packages (from torch>=1.1.0->KNN-CUDA==0.2) (3.1.3)\n",
            "Requirement already satisfied: fsspec in /usr/local/lib/python3.10/dist-packages (from torch>=1.1.0->KNN-CUDA==0.2) (2023.6.0)\n",
            "Requirement already satisfied: triton==2.1.0 in /usr/local/lib/python3.10/dist-packages (from torch>=1.1.0->KNN-CUDA==0.2) (2.1.0)\n",
            "Requirement already satisfied: scipy>=1.3.2 in /usr/local/lib/python3.10/dist-packages (from scikit-learn->KNN-CUDA==0.2) (1.11.4)\n",
            "Requirement already satisfied: joblib>=1.1.1 in /usr/local/lib/python3.10/dist-packages (from scikit-learn->KNN-CUDA==0.2) (1.3.2)\n",
            "Requirement already satisfied: threadpoolctl>=2.0.0 in /usr/local/lib/python3.10/dist-packages (from scikit-learn->KNN-CUDA==0.2) (3.2.0)\n",
            "Requirement already satisfied: MarkupSafe>=2.0 in /usr/local/lib/python3.10/dist-packages (from jinja2->torch>=1.1.0->KNN-CUDA==0.2) (2.1.5)\n",
            "Requirement already satisfied: mpmath>=0.19 in /usr/local/lib/python3.10/dist-packages (from sympy->torch>=1.1.0->KNN-CUDA==0.2) (1.3.0)\n",
            "Installing collected packages: KNN-CUDA\n",
            "Successfully installed KNN-CUDA-0.2\n"
          ]
        }
      ]
    },
    {
      "cell_type": "markdown",
      "source": [
        "# Log in to Huggingface"
      ],
      "metadata": {
        "id": "AWm2jCYYxBhl"
      }
    },
    {
      "cell_type": "code",
      "source": [
        "from google.colab import output\n",
        "output.enable_custom_widget_manager()"
      ],
      "metadata": {
        "id": "3TLMaekmxBPp"
      },
      "execution_count": 4,
      "outputs": []
    },
    {
      "cell_type": "code",
      "source": [
        "from huggingface_hub import login\n",
        "login()"
      ],
      "metadata": {
        "id": "nmYWjzhrZxF6",
        "colab": {
          "base_uri": "https://localhost:8080/",
          "height": 0,
          "referenced_widgets": [
            "21695eb111df4ce58d33761cf0e75555",
            "249ac0ca444745708826ec3a47ce128d",
            "2c985458c486498abc3f154d3cb3a904",
            "88a76ea643fb4cd1a7b057a2893baf11",
            "1b6477daa0ff4b82bf5e64e9d60c09a0",
            "32240595fb634229bb971b9b468a5258",
            "fffb4ecc7c244742bf1051a4bf7ef7cc",
            "372ae819bfef4ea4aa70cc25a0152e02",
            "2f8b77f6541f411f98e01f0f101535eb",
            "78a1f4cd2caa41d69496939bc26a1f3f",
            "4b06f9ef961a40d9849b03d1bf52458b",
            "af3a6e2c4a534933aaf619a7341f5f7d",
            "f34a5f01945a48e8bcd85df66a6762e3",
            "bdb21fe325f6447487440f0aa5a41bcb",
            "bb2934f921d54797ae1a682ce90adf76",
            "3b4b4e367ac24f129acc117df5d84e22",
            "9a9c9ba6602440358e5604e13a8c6887"
          ]
        },
        "outputId": "b4b9c8f9-fe51-4067-a8c4-0650ac538f27"
      },
      "execution_count": 5,
      "outputs": [
        {
          "output_type": "display_data",
          "data": {
            "text/plain": [
              "VBox(children=(HTML(value='<center> <img\\nsrc=https://huggingface.co/front/assets/huggingface_logo-noborder.sv…"
            ],
            "application/vnd.jupyter.widget-view+json": {
              "version_major": 2,
              "version_minor": 0,
              "model_id": "21695eb111df4ce58d33761cf0e75555"
            }
          },
          "metadata": {
            "application/vnd.jupyter.widget-view+json": {
              "colab": {
                "custom_widget_manager": {
                  "url": "https://ssl.gstatic.com/colaboratory-static/widgets/colab-cdn-widget-manager/2b70e893a8ba7c0f/manager.min.js"
                }
              }
            }
          }
        }
      ]
    },
    {
      "cell_type": "markdown",
      "source": [
        "# Get the OpenShape model from Huggingface"
      ],
      "metadata": {
        "id": "EmFurYFiyCSM"
      }
    },
    {
      "cell_type": "code",
      "source": [
        "%cd /content/openshape-demo-support\n",
        "!pip install -e .\n",
        "%cd /content"
      ],
      "metadata": {
        "id": "_-UugGsGiumt",
        "colab": {
          "base_uri": "https://localhost:8080/"
        },
        "outputId": "05a41000-f80b-4757-df8b-4020a6589fa4"
      },
      "execution_count": 6,
      "outputs": [
        {
          "output_type": "stream",
          "name": "stdout",
          "text": [
            "/content/openshape-demo-support\n",
            "Obtaining file:///content/openshape-demo-support\n",
            "  Preparing metadata (setup.py) ... \u001b[?25l\u001b[?25hdone\n",
            "Installing collected packages: openshape\n",
            "  Running setup.py develop for openshape\n",
            "Successfully installed openshape-0.1\n",
            "/content\n"
          ]
        }
      ]
    },
    {
      "cell_type": "code",
      "source": [
        "# Restart the run time if this cell fails and try again\n",
        "import openshape\n",
        "model = openshape.load_pc_encoder('openshape-pointbert-vitg14-rgb')\n",
        "\n",
        "\n",
        "model.eval()"
      ],
      "metadata": {
        "id": "21n-SAviizUw",
        "colab": {
          "base_uri": "https://localhost:8080/"
        },
        "outputId": "e216dc49-81f6-48b8-dd28-037229b6a7b6"
      },
      "execution_count": 12,
      "outputs": [
        {
          "output_type": "stream",
          "name": "stderr",
          "text": [
            "/usr/local/lib/python3.10/dist-packages/huggingface_hub/utils/_token.py:88: UserWarning: \n",
            "The secret `HF_TOKEN` does not exist in your Colab secrets.\n",
            "To authenticate with the Hugging Face Hub, create a token in your settings tab (https://huggingface.co/settings/tokens), set it as secret in your Google Colab and restart your session.\n",
            "You will be able to reuse this secret in all of your notebooks.\n",
            "Please note that authentication is recommended but still optional to access public models or datasets.\n",
            "  warnings.warn(\n"
          ]
        },
        {
          "output_type": "execute_result",
          "data": {
            "text/plain": [
              "Projected(\n",
              "  (ppat): PointPatchTransformer(\n",
              "    (sa): PointNetSetAbstraction(\n",
              "      (mlp_convs): ModuleList(\n",
              "        (0): Conv2d(9, 64, kernel_size=(1, 1), stride=(1, 1))\n",
              "        (1): Conv2d(64, 64, kernel_size=(1, 1), stride=(1, 1))\n",
              "        (2): Conv2d(64, 256, kernel_size=(1, 1), stride=(1, 1))\n",
              "      )\n",
              "      (mlp_bns): ModuleList(\n",
              "        (0-1): 2 x BatchNorm2d(64, eps=1e-05, momentum=0.1, affine=True, track_running_stats=True)\n",
              "        (2): BatchNorm2d(256, eps=1e-05, momentum=0.1, affine=True, track_running_stats=True)\n",
              "      )\n",
              "    )\n",
              "    (lift): Sequential(\n",
              "      (0): Conv1d(259, 512, kernel_size=(1,), stride=(1,))\n",
              "      (1): Lambda()\n",
              "      (2): LayerNorm((512,), eps=1e-05, elementwise_affine=True)\n",
              "    )\n",
              "    (transformer): Transformer(\n",
              "      (layers): ModuleList(\n",
              "        (0-11): 12 x ModuleList(\n",
              "          (0): PreNorm(\n",
              "            (norm): LayerNorm((512,), eps=1e-05, elementwise_affine=True)\n",
              "            (fn): Attention(\n",
              "              (attend): Softmax(dim=-1)\n",
              "              (dropout): Dropout(p=0.0, inplace=False)\n",
              "              (to_qkv): Linear(in_features=512, out_features=1536, bias=False)\n",
              "              (to_out): Sequential(\n",
              "                (0): Linear(in_features=512, out_features=512, bias=True)\n",
              "                (1): Dropout(p=0.0, inplace=False)\n",
              "              )\n",
              "            )\n",
              "          )\n",
              "          (1): PreNorm(\n",
              "            (norm): LayerNorm((512,), eps=1e-05, elementwise_affine=True)\n",
              "            (fn): FeedForward(\n",
              "              (net): Sequential(\n",
              "                (0): Linear(in_features=512, out_features=1536, bias=True)\n",
              "                (1): GELU(approximate='none')\n",
              "                (2): Dropout(p=0.0, inplace=False)\n",
              "                (3): Linear(in_features=1536, out_features=512, bias=True)\n",
              "                (4): Dropout(p=0.0, inplace=False)\n",
              "              )\n",
              "            )\n",
              "          )\n",
              "        )\n",
              "      )\n",
              "    )\n",
              "  )\n",
              "  (proj): Linear(in_features=512, out_features=1280, bias=True)\n",
              ")"
            ]
          },
          "metadata": {},
          "execution_count": 12
        }
      ]
    },
    {
      "cell_type": "markdown",
      "source": [
        "# Function for fitting pointclouds to input dimentions for OpenShape"
      ],
      "metadata": {
        "id": "W0YW3xqHyJDT"
      }
    },
    {
      "cell_type": "code",
      "source": [
        "import numpy as np\n",
        "import open3d as o3d\n",
        "import random\n",
        "import torch\n",
        "from OpenShape_code.src.utils.data import normalize_pc\n",
        "\n",
        "def load_ply(file_name, num_points=10000, y_up=True):\n",
        "    pcd = o3d.io.read_point_cloud(file_name)  # Read the point cloud\n",
        "    xyz = np.asarray(pcd.points)  # Get xyz coordinates\n",
        "    rgb = np.asarray(pcd.colors)  # Get rgb colors\n",
        "    n = xyz.shape[0]\n",
        "\n",
        "    # Sample num_points points if necessary\n",
        "    if n > num_points:\n",
        "        idx = random.sample(range(n), num_points)\n",
        "        xyz = xyz[idx]\n",
        "        rgb = rgb[idx]\n",
        "    elif n < num_points:\n",
        "        print(f\"Warning: requested {num_points} points, but file has only {n} points.\", file=sys.stderr)\n",
        "\n",
        "    # Adjust orientation by swapping y and z if requested\n",
        "    if y_up:\n",
        "        xyz[:, [1, 2]] = xyz[:, [2, 1]]\n",
        "\n",
        "    # Normalize the point cloud coordinates\n",
        "    xyz_normalized = normalize_pc(xyz)\n",
        "\n",
        "    # Handle cases where rgb might be missing\n",
        "    if rgb.size == 0:\n",
        "        rgb = np.ones_like(xyz_normalized) * 0.4  # Default to a constant color if missing\n",
        "\n",
        "    # Concatenate xyz with rgb\n",
        "    features = np.concatenate([xyz_normalized, rgb], axis=1)\n",
        "\n",
        "    # Convert to PyTorch tensors\n",
        "    xyz_tensor = torch.from_numpy(xyz_normalized).float()\n",
        "    features_tensor = torch.from_numpy(features).float()\n",
        "\n",
        "    # Add batch dimention to fit as single input to OpenShape model\n",
        "    features_tensor = features_tensor.unsqueeze(0)  # Adds a batch dimension, making it [1, N, 6]\n",
        "    features_tensor = features_tensor.transpose(1, 2)  # Transposes to get [1, 6, N], matching the expected [B, C, N] format\n",
        "\n",
        "    # Returning tensors instead of ME-specific batched coordinates\n",
        "    return xyz_tensor, features_tensor\n",
        "\n",
        "def filter_for_OpenShape(pointcloud, num_points=10000, y_up=True):\n",
        "    xyz = np.asarray(pointcloud.points)  # Get xyz coordinates\n",
        "    rgb = np.asarray(pointcloud.colors)  # Get rgb colors\n",
        "    n = xyz.shape[0]\n",
        "\n",
        "    # Sample num_points points if necessary\n",
        "    if n > num_points:\n",
        "        idx = random.sample(range(n), num_points)\n",
        "        xyz = xyz[idx]\n",
        "        #rgb = rgb[idx]\n",
        "    elif n < num_points:\n",
        "        print(f\"Warning: requested {num_points} points, but file has only {n} points.\", file=sys.stderr)\n",
        "\n",
        "    # Adjust orientation by swapping y and z if requested\n",
        "    if y_up:\n",
        "        xyz[:, [1, 2]] = xyz[:, [2, 1]]\n",
        "\n",
        "    # Normalize the point cloud coordinates\n",
        "    xyz_normalized = normalize_pc(xyz)\n",
        "\n",
        "    # Handle cases where rgb might be missing\n",
        "    if rgb.size == 0:\n",
        "        rgb = np.ones_like(xyz_normalized) * 0.4  # Default to a constant color if missing\n",
        "\n",
        "    # Concatenate xyz with rgb\n",
        "    features = np.concatenate([xyz_normalized, rgb], axis=1)\n",
        "\n",
        "    # Convert to PyTorch tensors\n",
        "    xyz_tensor = torch.from_numpy(xyz_normalized).float()\n",
        "    features_tensor = torch.from_numpy(features).float()\n",
        "\n",
        "    # Add batch dimention to fit as single input to OpenShape model\n",
        "    features_tensor = features_tensor.unsqueeze(0)  # Adds a batch dimension, making it [1, N, 6]\n",
        "    features_tensor = features_tensor.transpose(1, 2)  # Transposes to get [1, 6, N], matching the expected [B, C, N] format\n",
        "\n",
        "    # Returning tensors instead of ME-specific batched coordinates\n",
        "    return xyz_tensor, features_tensor\n"
      ],
      "metadata": {
        "id": "_LyfD_SHnKEu"
      },
      "execution_count": 5,
      "outputs": []
    },
    {
      "cell_type": "markdown",
      "source": [
        "# Test that installation and environment works\n",
        "\n",
        "If a feature vector is printed it should all be A OK!"
      ],
      "metadata": {
        "id": "tWsXrNENL40j"
      }
    },
    {
      "cell_type": "code",
      "source": [
        "xyz, feat = load_ply(\"/content/OpenShape_code/demo/owl.ply\")\n",
        "\n",
        "device = torch.device(\"cpu\")\n",
        "model = model.to(device)\n",
        "feat = feat.to(device)\n",
        "\n",
        "output = model.forward(feat)\n",
        "\n",
        "print(output)\n"
      ],
      "metadata": {
        "id": "TqztyB8JnQVn",
        "colab": {
          "base_uri": "https://localhost:8080/",
          "height": 92,
          "referenced_widgets": [
            "f99b60de0c9f419f88b524e6b375c85a",
            "0ba158f4351440c58dabf5a44a22e8aa",
            "3be265a1babc41dd922b35dad6643e5a",
            "3e0ba6f1409546c7bfcad0edb2b5c5b3",
            "3ce1b061b34f4b72ac4928d562f9361e",
            "be29441b7d0a429681dad927f2f7f500",
            "2d933c4ee2ee457e9cd983c96078a3b0",
            "b3fb565592a34540ab342cc6970968fa",
            "2e60a3ba44574b48a11b4971bd4415c3",
            "56a8b65f1b634269b5d595750634b95d",
            "30aa830c2b9349bbb861761ed20a65d7"
          ]
        },
        "outputId": "a921a972-9eda-423f-d35f-a3ef637703b9"
      },
      "execution_count": 3,
      "outputs": [
        {
          "output_type": "stream",
          "name": "stderr",
          "text": [
            "The cache for model files in Transformers v4.22.0 has been updated. Migrating your old cache. This is a one-time only operation. You can interrupt this and resume the migration later on by calling `transformers.utils.move_cache()`.\n"
          ]
        },
        {
          "output_type": "display_data",
          "data": {
            "text/plain": [
              "0it [00:00, ?it/s]"
            ],
            "application/vnd.jupyter.widget-view+json": {
              "version_major": 2,
              "version_minor": 0,
              "model_id": "f99b60de0c9f419f88b524e6b375c85a"
            }
          },
          "metadata": {}
        },
        {
          "output_type": "stream",
          "name": "stdout",
          "text": [
            "tensor([[-56.6056, -41.0874, -26.9307,  ..., -37.4247,  52.1633, -15.2911]],\n",
            "       grad_fn=<AddmmBackward0>)\n"
          ]
        }
      ]
    },
    {
      "cell_type": "markdown",
      "source": [
        "# Clone 3DOS repo"
      ],
      "metadata": {
        "id": "_90Y_MbTMe84"
      }
    },
    {
      "cell_type": "code",
      "source": [
        "# Clone 3D_OS repo from github\n",
        "%cd /content\n",
        "!git clone https://github.com/antoalli/3D_OS.git\n",
        "!cd 3D_OS && chmod +x download_data.sh && ./download_data.sh\n",
        "!pip install h5py protobuf lmdb msgpack-numpy ninja scikit-learn"
      ],
      "metadata": {
        "id": "UaL5_GSiTzpg",
        "colab": {
          "base_uri": "https://localhost:8080/"
        },
        "outputId": "9bc4ee0a-d0ff-43da-d322-eba96809af4a"
      },
      "execution_count": 4,
      "outputs": [
        {
          "output_type": "stream",
          "name": "stdout",
          "text": [
            "/content\n",
            "Cloning into '3D_OS'...\n",
            "remote: Enumerating objects: 152, done.\u001b[K\n",
            "remote: Counting objects: 100% (152/152), done.\u001b[K\n",
            "remote: Compressing objects: 100% (104/104), done.\u001b[K\n",
            "remote: Total 152 (delta 51), reused 142 (delta 44), pack-reused 0\u001b[K\n",
            "Receiving objects: 100% (152/152), 129.35 KiB | 5.62 MiB/s, done.\n",
            "Resolving deltas: 100% (51/51), done.\n",
            "Downloading data in /content/3D_OS/3D_OS_release_data\n",
            "============Downloading ShapeNetCore resampled in \n",
            "--2024-02-19 15:55:13--  https://www.dropbox.com/s/oa3qbujpugw4d43/sncore_fps_4096.tar?dl=1\n",
            "Resolving www.dropbox.com (www.dropbox.com)... 162.125.81.18, 2620:100:6031:18::a27d:5112\n",
            "Connecting to www.dropbox.com (www.dropbox.com)|162.125.81.18|:443... connected.\n",
            "HTTP request sent, awaiting response... 302 Found\n",
            "Location: /s/dl/oa3qbujpugw4d43/sncore_fps_4096.tar [following]\n",
            "--2024-02-19 15:55:14--  https://www.dropbox.com/s/dl/oa3qbujpugw4d43/sncore_fps_4096.tar\n",
            "Reusing existing connection to www.dropbox.com:443.\n",
            "HTTP request sent, awaiting response... 302 Found\n",
            "Location: https://uc47c94dca0376853340c75cad25.dl-eu.dropboxusercontent.com/cd/0/get/CNnVlSr5P8A4iBtTQ6KoZUSCESLfUjBbfhqj_BDbR92l6mbBLUohw2w4GwZnSYQAGXFmETwMIMT40iWUgtl2pJpEkIcELPyOAB3-m1Ade9C8_GZG8ty1uYkLbfz_j9bD4ZY6tPvZgMl1ribwyHqG6MIP/file?dl=1# [following]\n",
            "--2024-02-19 15:55:14--  https://uc47c94dca0376853340c75cad25.dl-eu.dropboxusercontent.com/cd/0/get/CNnVlSr5P8A4iBtTQ6KoZUSCESLfUjBbfhqj_BDbR92l6mbBLUohw2w4GwZnSYQAGXFmETwMIMT40iWUgtl2pJpEkIcELPyOAB3-m1Ade9C8_GZG8ty1uYkLbfz_j9bD4ZY6tPvZgMl1ribwyHqG6MIP/file?dl=1\n",
            "Resolving uc47c94dca0376853340c75cad25.dl-eu.dropboxusercontent.com (uc47c94dca0376853340c75cad25.dl-eu.dropboxusercontent.com)... 162.125.81.15, 2620:100:6031:15::a27d:510f\n",
            "Connecting to uc47c94dca0376853340c75cad25.dl-eu.dropboxusercontent.com (uc47c94dca0376853340c75cad25.dl-eu.dropboxusercontent.com)|162.125.81.15|:443... connected.\n",
            "HTTP request sent, awaiting response... 200 OK\n",
            "Length: 5037998080 (4.7G) [application/binary]\n",
            "Saving to: ‘/content/3D_OS/3D_OS_release_data/tmp_sncore_fps_4096.tar’\n",
            "\n",
            "/content/3D_OS/3D_O 100%[===================>]   4.69G  5.62MB/s    in 14m 12s \n",
            "\n",
            "2024-02-19 16:09:29 (5.64 MB/s) - ‘/content/3D_OS/3D_OS_release_data/tmp_sncore_fps_4096.tar’ saved [5037998080/5037998080]\n",
            "\n",
            "============\n",
            "============Downloading ModelNet40 + OOD Splits in \n",
            "--2024-02-19 16:10:06--  https://www.dropbox.com/s/c2x3h59nxprjs21/modelnet40_normal_resampled.tar?dl=1\n",
            "Resolving www.dropbox.com (www.dropbox.com)... 162.125.81.18, 2620:100:6031:18::a27d:5112\n",
            "Connecting to www.dropbox.com (www.dropbox.com)|162.125.81.18|:443... connected.\n",
            "HTTP request sent, awaiting response... 302 Found\n",
            "Location: /s/dl/c2x3h59nxprjs21/modelnet40_normal_resampled.tar [following]\n",
            "--2024-02-19 16:10:06--  https://www.dropbox.com/s/dl/c2x3h59nxprjs21/modelnet40_normal_resampled.tar\n",
            "Reusing existing connection to www.dropbox.com:443.\n",
            "HTTP request sent, awaiting response... 302 Found\n",
            "Location: https://uc70be0fea1e0dada9e3f3b37908.dl-eu.dropboxusercontent.com/cd/0/get/CNl7KKm58Pgl0CsojwdH-FIgjblMKnK1ztO_BoL4ud8_SRge17hFPTnXT_hfWJBC-uunE2V9B3nvgmyKsBnsFfuFREHhfl4sp9cUcHEq8eZPyvz69pdGiaP-DhxjaQGEJmbEDK-mNuxIL9Hs4D1wVJgL/file?dl=1# [following]\n",
            "--2024-02-19 16:10:07--  https://uc70be0fea1e0dada9e3f3b37908.dl-eu.dropboxusercontent.com/cd/0/get/CNl7KKm58Pgl0CsojwdH-FIgjblMKnK1ztO_BoL4ud8_SRge17hFPTnXT_hfWJBC-uunE2V9B3nvgmyKsBnsFfuFREHhfl4sp9cUcHEq8eZPyvz69pdGiaP-DhxjaQGEJmbEDK-mNuxIL9Hs4D1wVJgL/file?dl=1\n",
            "Resolving uc70be0fea1e0dada9e3f3b37908.dl-eu.dropboxusercontent.com (uc70be0fea1e0dada9e3f3b37908.dl-eu.dropboxusercontent.com)... 162.125.81.15, 2620:100:6031:15::a27d:510f\n",
            "Connecting to uc70be0fea1e0dada9e3f3b37908.dl-eu.dropboxusercontent.com (uc70be0fea1e0dada9e3f3b37908.dl-eu.dropboxusercontent.com)|162.125.81.15|:443... connected.\n",
            "HTTP request sent, awaiting response... 200 OK\n",
            "Length: 7599001600 (7.1G) [application/binary]\n",
            "Saving to: ‘/content/3D_OS/3D_OS_release_data/tmp_modelnet40_normal_resampled.tar’\n",
            "\n",
            "/content/3D_OS/3D_O 100%[===================>]   7.08G  8.66MB/s    in 17m 28s \n",
            "\n",
            "2024-02-19 16:27:37 (6.92 MB/s) - ‘/content/3D_OS/3D_OS_release_data/tmp_modelnet40_normal_resampled.tar’ saved [7599001600/7599001600]\n",
            "\n",
            "============\n",
            "============Downloading ScanObjectNN in \n",
            "--2024-02-19 16:28:28--  https://www.dropbox.com/s/gu0p3rych1k26b7/ScanObjectNN.tar?dl=1\n",
            "Resolving www.dropbox.com (www.dropbox.com)... 162.125.81.18, 2620:100:6031:18::a27d:5112\n",
            "Connecting to www.dropbox.com (www.dropbox.com)|162.125.81.18|:443... connected.\n",
            "HTTP request sent, awaiting response... 302 Found\n",
            "Location: /s/dl/gu0p3rych1k26b7/ScanObjectNN.tar [following]\n",
            "--2024-02-19 16:28:28--  https://www.dropbox.com/s/dl/gu0p3rych1k26b7/ScanObjectNN.tar\n",
            "Reusing existing connection to www.dropbox.com:443.\n",
            "HTTP request sent, awaiting response... 302 Found\n",
            "Location: https://uc1f8a296cd274be2791c59217d9.dl-eu.dropboxusercontent.com/cd/0/get/CNkv09Erg58L45_r2ubML0X0DZGfdIzLaE7JLx45yAP5Ymgy4VneJO8zXpSPfj5ZGnV1jNZ33nz0bc3sdutsgUP9tWIlcf76RH9caP8osr-P0WVBVQ6tc1bawyi5luh4vvE1qlX0zCH8YM0HuDU9nbzc/file?dl=1# [following]\n",
            "--2024-02-19 16:28:29--  https://uc1f8a296cd274be2791c59217d9.dl-eu.dropboxusercontent.com/cd/0/get/CNkv09Erg58L45_r2ubML0X0DZGfdIzLaE7JLx45yAP5Ymgy4VneJO8zXpSPfj5ZGnV1jNZ33nz0bc3sdutsgUP9tWIlcf76RH9caP8osr-P0WVBVQ6tc1bawyi5luh4vvE1qlX0zCH8YM0HuDU9nbzc/file?dl=1\n",
            "Resolving uc1f8a296cd274be2791c59217d9.dl-eu.dropboxusercontent.com (uc1f8a296cd274be2791c59217d9.dl-eu.dropboxusercontent.com)... 162.125.81.15, 2620:100:6031:15::a27d:510f\n",
            "Connecting to uc1f8a296cd274be2791c59217d9.dl-eu.dropboxusercontent.com (uc1f8a296cd274be2791c59217d9.dl-eu.dropboxusercontent.com)|162.125.81.15|:443... connected.\n",
            "HTTP request sent, awaiting response... 200 OK\n",
            "Length: 2623662080 (2.4G) [application/binary]\n",
            "Saving to: ‘/content/3D_OS/3D_OS_release_data/tmp_ScanObjectNN.tar’\n",
            "\n",
            "/content/3D_OS/3D_O 100%[===================>]   2.44G  5.61MB/s    in 5m 42s  \n",
            "\n",
            "2024-02-19 16:34:13 (7.32 MB/s) - ‘/content/3D_OS/3D_OS_release_data/tmp_ScanObjectNN.tar’ saved [2623662080/2623662080]\n",
            "\n",
            "============\n",
            "============Downloading ModelNet40 with corruptions in \n",
            "--2024-02-19 16:34:23--  https://www.dropbox.com/s/28u4swbyyn3wflz/ModelNet40_corrupted.tar?dl=1\n",
            "Resolving www.dropbox.com (www.dropbox.com)... 162.125.81.18, 2620:100:6031:18::a27d:5112\n",
            "Connecting to www.dropbox.com (www.dropbox.com)|162.125.81.18|:443... connected.\n",
            "HTTP request sent, awaiting response... 302 Found\n",
            "Location: /s/dl/28u4swbyyn3wflz/ModelNet40_corrupted.tar [following]\n",
            "--2024-02-19 16:34:24--  https://www.dropbox.com/s/dl/28u4swbyyn3wflz/ModelNet40_corrupted.tar\n",
            "Reusing existing connection to www.dropbox.com:443.\n",
            "HTTP request sent, awaiting response... 302 Found\n",
            "Location: https://uc32595c3f069d2c396d53b9eb72.dl-eu.dropboxusercontent.com/cd/0/get/CNnePtYciLKCuBSzaily9wAGx-dNd-w0uC52k9xjvtq6Kt_4uPRjqniZ9c1Qmr-skVJ6wHpaPuGFklXgwvPLVAPY9KY-uDg9_0NzoV95FD9qNzdKhIXiSH6aMZpNrAX7cy7oziKv2uNNBUXclAlB8-VW/file?dl=1# [following]\n",
            "--2024-02-19 16:34:25--  https://uc32595c3f069d2c396d53b9eb72.dl-eu.dropboxusercontent.com/cd/0/get/CNnePtYciLKCuBSzaily9wAGx-dNd-w0uC52k9xjvtq6Kt_4uPRjqniZ9c1Qmr-skVJ6wHpaPuGFklXgwvPLVAPY9KY-uDg9_0NzoV95FD9qNzdKhIXiSH6aMZpNrAX7cy7oziKv2uNNBUXclAlB8-VW/file?dl=1\n",
            "Resolving uc32595c3f069d2c396d53b9eb72.dl-eu.dropboxusercontent.com (uc32595c3f069d2c396d53b9eb72.dl-eu.dropboxusercontent.com)... 162.125.81.15, 2620:100:6031:15::a27d:510f\n",
            "Connecting to uc32595c3f069d2c396d53b9eb72.dl-eu.dropboxusercontent.com (uc32595c3f069d2c396d53b9eb72.dl-eu.dropboxusercontent.com)|162.125.81.15|:443... connected.\n",
            "HTTP request sent, awaiting response... 200 OK\n",
            "Length: 1107384320 (1.0G) [application/binary]\n",
            "Saving to: ‘/content/3D_OS/3D_OS_release_data/tmp_ModelNet40_corrupted.tar’\n",
            "\n",
            "/content/3D_OS/3D_O 100%[===================>]   1.03G  8.54MB/s    in 2m 2s   \n",
            "\n",
            "2024-02-19 16:36:29 (8.67 MB/s) - ‘/content/3D_OS/3D_OS_release_data/tmp_ModelNet40_corrupted.tar’ saved [1107384320/1107384320]\n",
            "\n",
            "============\n",
            "Finished\n",
            "Requirement already satisfied: h5py in /usr/local/lib/python3.10/dist-packages (3.9.0)\n",
            "Requirement already satisfied: protobuf in /usr/local/lib/python3.10/dist-packages (3.20.3)\n",
            "Collecting lmdb\n",
            "  Downloading lmdb-1.4.1-cp310-cp310-manylinux_2_17_x86_64.manylinux2014_x86_64.whl (299 kB)\n",
            "\u001b[2K     \u001b[90m━━━━━━━━━━━━━━━━━━━━━━━━━━━━━━━━━━━━━━━━\u001b[0m \u001b[32m299.2/299.2 kB\u001b[0m \u001b[31m7.5 MB/s\u001b[0m eta \u001b[36m0:00:00\u001b[0m\n",
            "\u001b[?25hCollecting msgpack-numpy\n",
            "  Downloading msgpack_numpy-0.4.8-py2.py3-none-any.whl (6.9 kB)\n",
            "Collecting ninja\n",
            "  Downloading ninja-1.11.1.1-py2.py3-none-manylinux1_x86_64.manylinux_2_5_x86_64.whl (307 kB)\n",
            "\u001b[2K     \u001b[90m━━━━━━━━━━━━━━━━━━━━━━━━━━━━━━━━━━━━━━━━\u001b[0m \u001b[32m307.2/307.2 kB\u001b[0m \u001b[31m36.5 MB/s\u001b[0m eta \u001b[36m0:00:00\u001b[0m\n",
            "\u001b[?25hRequirement already satisfied: scikit-learn in /usr/local/lib/python3.10/dist-packages (1.2.2)\n",
            "Requirement already satisfied: numpy>=1.17.3 in /usr/local/lib/python3.10/dist-packages (from h5py) (1.25.2)\n",
            "Requirement already satisfied: msgpack>=0.5.2 in /usr/local/lib/python3.10/dist-packages (from msgpack-numpy) (1.0.7)\n",
            "Requirement already satisfied: scipy>=1.3.2 in /usr/local/lib/python3.10/dist-packages (from scikit-learn) (1.11.4)\n",
            "Requirement already satisfied: joblib>=1.1.1 in /usr/local/lib/python3.10/dist-packages (from scikit-learn) (1.3.2)\n",
            "Requirement already satisfied: threadpoolctl>=2.0.0 in /usr/local/lib/python3.10/dist-packages (from scikit-learn) (3.2.0)\n",
            "Installing collected packages: ninja, lmdb, msgpack-numpy\n",
            "Successfully installed lmdb-1.4.1 msgpack-numpy-0.4.8 ninja-1.11.1.1\n"
          ]
        }
      ]
    },
    {
      "cell_type": "markdown",
      "source": [
        "# Create data for chair\n",
        "\n",
        "We use a 3D chair downloaded from:\n",
        "\n",
        "https://free3d.com/3d-model/office-chair-871087.html\n",
        "\n",
        "\n"
      ],
      "metadata": {
        "id": "seoQcJoGmBkp"
      }
    },
    {
      "cell_type": "code",
      "source": [
        "!pip install bpy"
      ],
      "metadata": {
        "id": "o52eGIp-mJ2k",
        "colab": {
          "base_uri": "https://localhost:8080/"
        },
        "outputId": "63aa4e5f-be77-43cc-e4fb-99833185f53a"
      },
      "execution_count": 3,
      "outputs": [
        {
          "output_type": "stream",
          "name": "stdout",
          "text": [
            "Requirement already satisfied: bpy in /usr/local/lib/python3.10/dist-packages (4.0.0)\n",
            "Requirement already satisfied: cython in /usr/local/lib/python3.10/dist-packages (from bpy) (3.0.8)\n",
            "Requirement already satisfied: numpy in /usr/local/lib/python3.10/dist-packages (from bpy) (1.25.2)\n",
            "Requirement already satisfied: requests in /usr/local/lib/python3.10/dist-packages (from bpy) (2.31.0)\n",
            "Requirement already satisfied: zstandard in /usr/local/lib/python3.10/dist-packages (from bpy) (0.22.0)\n",
            "Requirement already satisfied: charset-normalizer<4,>=2 in /usr/local/lib/python3.10/dist-packages (from requests->bpy) (3.3.2)\n",
            "Requirement already satisfied: idna<4,>=2.5 in /usr/local/lib/python3.10/dist-packages (from requests->bpy) (3.6)\n",
            "Requirement already satisfied: urllib3<3,>=1.21.1 in /usr/local/lib/python3.10/dist-packages (from requests->bpy) (2.0.7)\n",
            "Requirement already satisfied: certifi>=2017.4.17 in /usr/local/lib/python3.10/dist-packages (from requests->bpy) (2024.2.2)\n"
          ]
        }
      ]
    },
    {
      "cell_type": "code",
      "source": [
        "import numpy as np\n",
        "\n",
        "def obj_to_pointcloud(obj_file_path, num_samples=10000):\n",
        "    vertices = []\n",
        "    with open(obj_file_path, 'r') as file:\n",
        "        for line in file:\n",
        "            if line.startswith('v '):\n",
        "                parts = line.strip().split()\n",
        "                vertices.append([float(parts[1]), float(parts[2]), float(parts[3])])\n",
        "\n",
        "    vertices_array = np.array(vertices)\n",
        "\n",
        "    if vertices_array.shape[0] < num_samples:\n",
        "        raise ValueError(f\"Not enough vertices to sample: {vertices_array.shape[0]} available, {num_samples} requested.\")\n",
        "\n",
        "    sampled_indices = np.random.choice(vertices_array.shape[0], size=num_samples, replace=False)\n",
        "    sampled_vertices = vertices_array[sampled_indices]\n",
        "\n",
        "    return sampled_vertices\n",
        "\n",
        "obj_file_path = '/content/Office chair.obj'\n",
        "\n",
        "try:\n",
        "    point_cloud = obj_to_pointcloud(obj_file_path)\n",
        "    output_file_path = 'output_point_cloud.npy'\n",
        "    np.save(output_file_path, point_cloud)\n",
        "    print(f\"Sampled point cloud saved to {output_file_path}\")\n",
        "except ValueError as e:\n",
        "    print(e)"
      ],
      "metadata": {
        "colab": {
          "base_uri": "https://localhost:8080/"
        },
        "id": "YlLMJBaQuLeM",
        "outputId": "f154fd30-fd46-4a65-94ee-c99c7a18f702"
      },
      "execution_count": 7,
      "outputs": [
        {
          "output_type": "stream",
          "name": "stdout",
          "text": [
            "Sampled point cloud saved to output_point_cloud.npy\n"
          ]
        }
      ]
    },
    {
      "cell_type": "markdown",
      "source": [
        "# Create dataset of correctly produced chairs\n",
        "To get realistic measurements we add gaussian noise to the point cloud to simulate measurement noise."
      ],
      "metadata": {
        "id": "ApGQMjIqxGPj"
      }
    },
    {
      "cell_type": "code",
      "source": [
        "import open3d as o3d\n",
        "import numpy as np\n",
        "\n",
        "import torch\n",
        "from torch.utils.data import Dataset, DataLoader, random_split\n",
        "\n",
        "class PointCloudDatasetWithLabels(Dataset):\n",
        "    def __init__(self, point_clouds, labels):\n",
        "        \"\"\"\n",
        "        Args:\n",
        "            point_clouds (list): List of point clouds, each point cloud is a numpy array or PyTorch tensor.\n",
        "            labels (list): List of labels corresponding to each point cloud.\n",
        "        \"\"\"\n",
        "        assert len(point_clouds) == len(labels), \"Point clouds and labels must have the same length\"\n",
        "        self.point_clouds = [torch.tensor(pc, dtype=torch.float) if not torch.is_tensor(pc) else pc for pc in point_clouds]\n",
        "        self.labels = labels\n",
        "\n",
        "    def __len__(self):\n",
        "        return len(self.point_clouds)\n",
        "\n",
        "    def __getitem__(self, idx):\n",
        "        return self.point_clouds[idx], self.labels[idx]\n",
        "\n",
        "def add_gaussian_noise_to_pointcloud(pcd, mean=0, std_dev=0.01):\n",
        "    points = np.asarray(pcd.points)\n",
        "\n",
        "    noise = np.random.normal(mean, std_dev, points.shape)\n",
        "\n",
        "    noisy_points = points + noise\n",
        "\n",
        "    noisy_pcd = o3d.geometry.PointCloud()\n",
        "    noisy_pcd.points = o3d.utility.Vector3dVector(noisy_points)\n",
        "\n",
        "    return noisy_pcd\n",
        "\n",
        "def generate_noisy_chairs(pointcloud, number_of_noisy_chairs=100):\n",
        "    noisy_chairs = []\n",
        "    for i in range(0, number_of_noisy_chairs):\n",
        "        noisy_pcd = add_gaussian_noise_to_pointcloud(pointcloud)\n",
        "        noisy_chairs.append(noisy_pcd)\n",
        "    return noisy_chairs\n",
        "\n",
        "\n",
        "points = np.load(\"/content/output_point_cloud.npy\")\n",
        "points = torch.from_numpy(points)\n",
        "print(points.shape)\n",
        "points = points.reshape(-1, 3)\n",
        "print(points.shape)\n",
        "\n",
        "pcd = o3d.geometry.PointCloud()\n",
        "pcd.points = o3d.utility.Vector3dVector(points)\n",
        "\n",
        "noisy_chairs = generate_noisy_chairs(pcd, number_of_noisy_chairs=600)\n",
        "noisy_chairs_labels = []\n",
        "for i in range(0, len(noisy_chairs)):\n",
        "    _, noisy_chairs[i] = filter_for_OpenShape(noisy_chairs[i], num_points=10000)\n",
        "    noisy_chairs_labels.append(1)\n",
        "\n",
        "# Assuming `point_cloud_list` is your list of point cloud inputs\n",
        "noisy_correct_chairs_dataset = PointCloudDatasetWithLabels(noisy_chairs, noisy_chairs_labels)\n",
        "\n",
        "# Create a DataLoader\n",
        "noisy_correct_chairs_dataloader = DataLoader(noisy_correct_chairs_dataset, batch_size=4, shuffle=False, num_workers=2)\n",
        "\n",
        "total_size = len(noisy_correct_chairs_dataset)\n",
        "train_size = int(total_size * 0.5)  # 80% of the total size\n",
        "test_size = total_size - train_size  # The rest for testing/validation\n",
        "\n",
        "# Perform the split\n",
        "train_dataset, id_dataset = random_split(noisy_correct_chairs_dataset, [train_size, test_size])\n",
        "\n",
        "train_loader = DataLoader(train_dataset, batch_size=1, shuffle=True)\n",
        "id_loader = DataLoader(id_dataset, batch_size=1, shuffle=False)\n"
      ],
      "metadata": {
        "colab": {
          "base_uri": "https://localhost:8080/"
        },
        "id": "0HqxGLHfoFGh",
        "outputId": "928ba01a-02cd-432f-c972-aa874c94b595"
      },
      "execution_count": 8,
      "outputs": [
        {
          "output_type": "stream",
          "name": "stdout",
          "text": [
            "torch.Size([10000, 3])\n",
            "torch.Size([10000, 3])\n"
          ]
        }
      ]
    },
    {
      "cell_type": "markdown",
      "source": [
        "# Create dataset of defect chairs"
      ],
      "metadata": {
        "id": "T9hTd58X8iqT"
      }
    },
    {
      "cell_type": "code",
      "source": [
        "import open3d as o3d\n",
        "import numpy as np\n",
        "import random\n",
        "\n",
        "\n",
        "# Localized Distortion\n",
        "def distort_chair(chair_points):\n",
        "    max_values = np.amax(chair_points, axis=0)\n",
        "    x_max, y_max, z_max = max_values[0], max_values[1], max_values[2]\n",
        "\n",
        "    min_values = np.amin(chair_points, axis=0)\n",
        "    x_min, y_min, z_min = min_values[0], min_values[1], min_values[2]\n",
        "\n",
        "    min_bound = np.array([x_min, y_min, z_min])\n",
        "    max_bound = np.array([x_max, y_max, z_max])\n",
        "    region_indices = np.all((chair_points >= min_bound) & (chair_points <= max_bound), axis=1)\n",
        "    chair_points[region_indices] += np.random.normal(0, 0.5, chair_points[region_indices].shape)\n",
        "    return chair_points\n",
        "\n",
        "# Missing parts\n",
        "def remove_points_from_chair(chair_points):\n",
        "    num_missing_points = 100\n",
        "    missing_indices = np.random.choice(len(chair_points), num_missing_points, replace=False)\n",
        "    chair_points = np.delete(chair_points, missing_indices, axis=0)\n",
        "    return chair_points\n",
        "\n",
        "def remove_points_within_radius(point_cloud, radius):\n",
        "    random_index = np.random.randint(len(point_cloud))\n",
        "    random_point = point_cloud[random_index]\n",
        "\n",
        "    squared_distances = np.sum((point_cloud - random_point) ** 2, axis=1)\n",
        "    squared_radius = radius ** 2\n",
        "\n",
        "    mask = squared_distances > squared_radius\n",
        "\n",
        "    return point_cloud[mask]\n",
        "\n",
        "def add_random_points(chair_points, final_size=10000):\n",
        "    size = len(chair_points)\n",
        "    points_to_add = final_size - size\n",
        "\n",
        "    noise_indices = np.random.choice(len(chair_points), points_to_add, replace=False)\n",
        "    new_points = chair_points[noise_indices] + np.random.normal(0, 0.1, chair_points[noise_indices].shape)\n",
        "\n",
        "    return np.concatenate((chair_points, new_points), axis=0)\n",
        "\n",
        "# Scale some parts\n",
        "def scale_chair(chair_points, scale):\n",
        "    scale_factor = scale\n",
        "    chair_points *= scale_factor\n",
        "    return chair_points\n",
        "\n",
        "def add_noise_to_chair(chair_points, std = 10):\n",
        "    noise_indices = np.random.choice(len(chair_points), 10, replace=False)\n",
        "    chair_points[noise_indices] += np.random.normal(0, std, chair_points[noise_indices].shape)\n",
        "    return chair_points\n",
        "\n",
        "# Make chair asymmertric\n",
        "def make_chair_asymmetric(chair_points):\n",
        "    asymmetry_indices = chair_points[:, 0] > np.mean(chair_points[:, 0])  # For example, right half\n",
        "    chair_points[asymmetry_indices] *= np.array([1.0, 0.9, 0.9])  # Scale down y and z\n",
        "    return chair_points\n",
        "\n",
        "\n",
        "def apply_asymmetrical_scaling(point_cloud, scale_factors=np.array([1.0, 0.9, 0.9])):\n",
        "    axis = np.random.choice([0, 1, 2])\n",
        "\n",
        "    median_value = np.median(point_cloud[:, axis])\n",
        "\n",
        "    if np.random.rand() > 0.5:\n",
        "        selected_half_mask = point_cloud[:, axis] > median_value\n",
        "    else:\n",
        "        selected_half_mask = point_cloud[:, axis] <= median_value\n",
        "\n",
        "    point_cloud[selected_half_mask] *= np.array(scale_factors)\n",
        "\n",
        "    return point_cloud\n",
        "\n",
        "\n",
        "def random_rotation_matrix():\n",
        "    \"\"\"Generate a random rotation matrix.\"\"\"\n",
        "    theta = np.random.uniform(0, 2 * np.pi)\n",
        "\n",
        "    axis = np.random.randn(3)\n",
        "    axis = axis / np.linalg.norm(axis)\n",
        "\n",
        "    K = np.array([[0, -axis[2], axis[1]],\n",
        "                  [axis[2], 0, -axis[0]],\n",
        "                  [-axis[1], axis[0], 0]])\n",
        "    rotation_matrix = np.eye(3) + np.sin(theta) * K + (1 - np.cos(theta)) * np.dot(K, K)\n",
        "\n",
        "    return rotation_matrix\n",
        "\n",
        "def create_random_defect(pcd, type_of_defect):\n",
        "    chair_points = np.asarray(pcd.points)\n",
        "\n",
        "    if type_of_defect == \"distort\":\n",
        "        chair_points = distort_chair(chair_points)\n",
        "    elif type_of_defect == \"remove parts\":\n",
        "        chair_points = remove_points_within_radius(chair_points, 300)\n",
        "        chair_points = add_random_points(chair_points)\n",
        "    elif type_of_defect == \"scale\":\n",
        "        chair_points = scale_chair(chair_points, scale=random.uniform(0.8, 1.3))\n",
        "    elif type_of_defect == \"add noise\":\n",
        "        chair_points = add_noise_to_chair(chair_points)\n",
        "    elif type_of_defect == \"asymmetrical\":\n",
        "        rotation_matrix = random_rotation_matrix()\n",
        "        rotation_matrix_inv = rotation_matrix.T\n",
        "        chair_points = np.dot(chair_points, rotation_matrix.T)\n",
        "        chair_points = apply_asymmetrical_scaling(chair_points, scale_factors=np.array([1.0, 0.8, 0.8]))\n",
        "        chair_points = np.dot(chair_points, rotation_matrix_inv.T)\n",
        "\n",
        "    defect_pcd = o3d.geometry.PointCloud()\n",
        "    defect_pcd.points = o3d.utility.Vector3dVector(chair_points)\n",
        "    return defect_pcd\n",
        "\n",
        "def generate_defect_chairs(pointcloud, type_of_defects, number_of_noisy_chairs=100):\n",
        "    defect_chairs = []\n",
        "    num_each_type = number_of_noisy_chairs //len(type_of_defects)\n",
        "    for defect in type_of_defects:\n",
        "        for i in range(0, num_each_type):\n",
        "            # Add defect\n",
        "            defect_pcd = create_random_defect(pcd, defect)\n",
        "            # Add measurement noise\n",
        "            defect_pcd = add_gaussian_noise_to_pointcloud(defect_pcd, mean=0, std_dev=0.01)\n",
        "            defect_chairs.append(defect_pcd)\n",
        "    return defect_chairs\n",
        "\n",
        "type_of_defects = [\"distort\", \"remove parts\", \"scale\", \"add noise\", \"asymmetrical\"]\n",
        "defect_chairs = generate_defect_chairs(pcd, type_of_defects, number_of_noisy_chairs=500)\n",
        "defect_chairs_labels = np.zeros(len(defect_chairs))\n",
        "for i in range(0, len(defect_chairs)):\n",
        "    _, defect_chairs[i] = filter_for_OpenShape(defect_chairs[i], num_points=10000)\n",
        "\n",
        "# Assuming `point_cloud_list` is your list of point cloud inputs\n",
        "noisy_defect_chairs_dataset = PointCloudDatasetWithLabels(defect_chairs, defect_chairs_labels)\n",
        "\n",
        "# Create a DataLoader\n",
        "ood_loader = DataLoader(noisy_defect_chairs_dataset, batch_size=1, shuffle=False, num_workers=2)\n"
      ],
      "metadata": {
        "id": "0-QjNG6U8n-Z"
      },
      "execution_count": 9,
      "outputs": []
    },
    {
      "cell_type": "code",
      "source": [
        "# Iterate through the DataLoader\n",
        "for data in train_loader:\n",
        "    print(\"train_loader\")\n",
        "    if isinstance(data, tuple) or isinstance(data, list):\n",
        "        inputs, targets = data\n",
        "        print(f\"Input batch dimensions: {inputs.shape}\")\n",
        "        print(f\"Target batch dimensions: {targets.shape}\")\n",
        "    else:\n",
        "        # If there are no targets/labels\n",
        "        print(f\"Input batch dimensions: {data.shape}\")\n",
        "    break  # Break after the first batch to just check the dimensions\n",
        "\n",
        "# Iterate through the DataLoader\n",
        "for data in id_loader:\n",
        "    print(\"id_loader\")\n",
        "    if isinstance(data, tuple) or isinstance(data, list):\n",
        "        inputs, targets = data\n",
        "        print(f\"Input batch dimensions: {inputs.shape}\")\n",
        "        print(f\"Target batch dimensions: {targets.shape}\")\n",
        "    else:\n",
        "        # If there are no targets/labels\n",
        "        print(f\"Input batch dimensions: {data.shape}\")\n",
        "    break  # Break after the first batch to just check the dimensions\n",
        "\n",
        "# Iterate through the DataLoader\n",
        "for data in ood_loader:\n",
        "    print(\"ood_loader\")\n",
        "    if isinstance(data, tuple) or isinstance(data, list):\n",
        "        inputs, targets = data\n",
        "        print(f\"Input batch dimensions: {inputs.shape}\")\n",
        "        print(f\"Target batch dimensions: {targets.shape}\")\n",
        "    else:\n",
        "        # If there are no targets/labels\n",
        "        print(f\"Input batch dimensions: {data.shape}\")\n",
        "    break  # Break after the first batch to just check the dimensions"
      ],
      "metadata": {
        "colab": {
          "base_uri": "https://localhost:8080/"
        },
        "id": "dzmaKFSTh13Y",
        "outputId": "9254476a-744b-47b0-a1ce-3a4f57e0d605"
      },
      "execution_count": 10,
      "outputs": [
        {
          "output_type": "stream",
          "name": "stdout",
          "text": [
            "train_loader\n",
            "Input batch dimensions: torch.Size([1, 1, 6, 10000])\n",
            "Target batch dimensions: torch.Size([1])\n",
            "id_loader\n",
            "Input batch dimensions: torch.Size([1, 1, 6, 10000])\n",
            "Target batch dimensions: torch.Size([1])\n",
            "ood_loader\n",
            "Input batch dimensions: torch.Size([1, 1, 6, 10000])\n",
            "Target batch dimensions: torch.Size([1])\n"
          ]
        }
      ]
    },
    {
      "cell_type": "markdown",
      "source": [
        "# Run data through the OpenShape model"
      ],
      "metadata": {
        "id": "aiYWbvj2e3Vb"
      }
    },
    {
      "cell_type": "code",
      "source": [
        "# Run data through OpenShape\n",
        "from tqdm import tqdm\n",
        "import os\n",
        "device = torch.device(\"cpu\")\n",
        "model = model.to(device)\n",
        "\n",
        "%cd /content\n",
        "save_dir = \"Extension_outputs\"\n",
        "if not os.path.exists(save_dir):\n",
        "    print(f\"Creating directory: {save_dir}\")\n",
        "    os.makedirs(save_dir)\n",
        "\n",
        "print(\"Running training data through the OpenShape model\")\n",
        "train_feats = []\n",
        "for i, (data, label) in tqdm(enumerate(train_loader)):\n",
        "\n",
        "    points = data\n",
        "    points = points.reshape(-1, 3)\n",
        "    pcd = o3d.geometry.PointCloud()\n",
        "    pcd.points = o3d.utility.Vector3dVector(points)\n",
        "\n",
        "    xyz, feat = filter_for_OpenShape(pcd)\n",
        "    feat = feat.to(device)\n",
        "\n",
        "    output_feat = model.forward(feat)\n",
        "\n",
        "    train_feats.append(output_feat.detach().numpy())\n",
        "\n",
        "outfile = save_dir + \"/train_feats.npy\"\n",
        "np.save(outfile, np.array(train_feats))\n",
        "print(\"Saved data to \" + outfile)"
      ],
      "metadata": {
        "colab": {
          "base_uri": "https://localhost:8080/"
        },
        "id": "hv-8re7st5OL",
        "outputId": "8d4eb6cd-74bb-4b0e-b3de-7f63f5bcb8b6"
      },
      "execution_count": 14,
      "outputs": [
        {
          "output_type": "stream",
          "name": "stdout",
          "text": [
            "/content\n",
            "Running training data through the OpenShape model\n"
          ]
        },
        {
          "output_type": "stream",
          "name": "stderr",
          "text": [
            "300it [04:59,  1.00it/s]"
          ]
        },
        {
          "output_type": "stream",
          "name": "stdout",
          "text": [
            "Saved data to Extension_outputs/train_feats.npy\n"
          ]
        },
        {
          "output_type": "stream",
          "name": "stderr",
          "text": [
            "\n"
          ]
        }
      ]
    },
    {
      "cell_type": "code",
      "source": [
        "\n",
        "\n",
        "print(\"Running ID data through the OpenShape model\")\n",
        "src_feats = []\n",
        "for i, (data, label) in tqdm(enumerate(id_loader)):\n",
        "    points = data\n",
        "    points = points.reshape(-1, 3)\n",
        "    pcd = o3d.geometry.PointCloud()\n",
        "    pcd.points = o3d.utility.Vector3dVector(points)\n",
        "\n",
        "    xyz, feat = filter_for_OpenShape(pcd)\n",
        "    feat = feat.to(device)\n",
        "\n",
        "    output_feat = model.forward(feat)\n",
        "\n",
        "    src_feats.append(output_feat.detach().numpy())\n",
        "\n",
        "outfile = save_dir + \"/src_feats\"\n",
        "np.save(outfile, np.array(src_feats))\n",
        "print(\"Saved data to \" + outfile)\n",
        "\n"
      ],
      "metadata": {
        "colab": {
          "base_uri": "https://localhost:8080/"
        },
        "id": "sZ1oZolje1Z8",
        "outputId": "7302e47c-1024-4b05-cb77-578e6d86af3e"
      },
      "execution_count": 15,
      "outputs": [
        {
          "output_type": "stream",
          "name": "stdout",
          "text": [
            "Running ID data through the OpenShape model\n"
          ]
        },
        {
          "output_type": "stream",
          "name": "stderr",
          "text": [
            "300it [04:56,  1.01it/s]"
          ]
        },
        {
          "output_type": "stream",
          "name": "stdout",
          "text": [
            "Saved data to Extension_outputs/src_feats\n"
          ]
        },
        {
          "output_type": "stream",
          "name": "stderr",
          "text": [
            "\n"
          ]
        }
      ]
    },
    {
      "cell_type": "code",
      "source": [
        "\n",
        "print(\"Rinning OOD1 data throug the OpenShape model\")\n",
        "ood_feats = []\n",
        "for i, (data, label) in tqdm(enumerate(ood_loader)):\n",
        "    points = data\n",
        "    points = points.reshape(-1, 3)\n",
        "    pcd = o3d.geometry.PointCloud()\n",
        "    pcd.points = o3d.utility.Vector3dVector(points)\n",
        "\n",
        "    xyz, feat = filter_for_OpenShape(pcd)\n",
        "    feat = feat.to(device)\n",
        "\n",
        "    output_feat = model.forward(feat)\n",
        "\n",
        "    ood_feats.append(output_feat.detach().numpy())\n",
        "\n",
        "outfile = save_dir + \"/ood_feats\"\n",
        "np.save(outfile, np.array(ood_feats))\n",
        "print(\"Saved data to \" + outfile)"
      ],
      "metadata": {
        "colab": {
          "base_uri": "https://localhost:8080/"
        },
        "id": "zFMRABtFu9Qp",
        "outputId": "385d41bf-3778-4d60-bea2-de6446a780ee"
      },
      "execution_count": 16,
      "outputs": [
        {
          "output_type": "stream",
          "name": "stdout",
          "text": [
            "Rinning OOD1 data throug the OpenShape model\n"
          ]
        },
        {
          "output_type": "stream",
          "name": "stderr",
          "text": [
            "500it [08:16,  1.01it/s]"
          ]
        },
        {
          "output_type": "stream",
          "name": "stdout",
          "text": [
            "Saved data to Extension_outputs/ood_feats\n"
          ]
        },
        {
          "output_type": "stream",
          "name": "stderr",
          "text": [
            "\n"
          ]
        }
      ]
    },
    {
      "cell_type": "code",
      "source": [
        "train_feats = np.load(\"Extension_outputs/train_feats.npy\")\n",
        "id_feats = np.load(\"Extension_outputs/src_feats.npy\")\n",
        "ood_feats = np.load(\"Extension_outputs/ood_feats.npy\")\n",
        "\n",
        "train_feats = torch.from_numpy(train_feats)\n",
        "id_feats = torch.from_numpy(id_feats)\n",
        "ood_feats = torch.from_numpy(ood_feats)"
      ],
      "metadata": {
        "id": "MwgCUD7rkKq4"
      },
      "execution_count": 17,
      "outputs": []
    },
    {
      "cell_type": "code",
      "source": [
        "print(train_feats.shape)\n",
        "print(id_feats.shape)\n",
        "print(ood_feats.shape)"
      ],
      "metadata": {
        "colab": {
          "base_uri": "https://localhost:8080/"
        },
        "id": "OHYXXfVd1KQO",
        "outputId": "f8f97f1b-6dcc-4eff-d2b8-17b014a60036"
      },
      "execution_count": 18,
      "outputs": [
        {
          "output_type": "stream",
          "name": "stdout",
          "text": [
            "torch.Size([300, 1, 1280])\n",
            "torch.Size([300, 1, 1280])\n",
            "torch.Size([500, 1, 1280])\n"
          ]
        }
      ]
    },
    {
      "cell_type": "code",
      "source": [
        "%cd \"3D_OS\"\n",
        "from knn_cuda import KNN\n",
        "from utils.ood_utils import eval_ood_sncore\n",
        "knn = KNN(k=1, transpose_mode=True)\n",
        "\n",
        "device = torch.device(\"cuda\")\n",
        "train_feats = train_feats.to(device)\n",
        "src_feats = id_feats.to(device)\n",
        "tar1_feats = ood_feats.to(device)\n",
        "\n",
        "################################################\n",
        "print(\"Euclidean distances in a non-normalized space:\")\n",
        "# eucl distance in a non-normalized space\n",
        "src_dist, src_ids = knn(train_feats.unsqueeze(0), src_feats.unsqueeze(0))\n",
        "src_dist = src_dist.squeeze().cpu()\n",
        "src_ids = src_ids.squeeze().cpu()  # index of nearest training sample\n",
        "src_scores = 1 / src_dist\n",
        "#src_pred = np.asarray([train_labels[i] for i in src_ids])  # pred is label of nearest training sample\n",
        "\n",
        "# OOD tar1\n",
        "tar1_dist, _ = knn(train_feats.unsqueeze(0), tar1_feats.unsqueeze(0))\n",
        "tar1_dist = tar1_dist.squeeze().cpu()\n",
        "tar1_scores = 1 / tar1_dist\n",
        "\n",
        "\n",
        "eval_ood_sncore(\n",
        "    scores_list=[src_scores, tar1_scores, tar1_scores],\n",
        "    preds_list=[None, None, None],  # [src_pred, None, None],\n",
        "    labels_list=[None, None, None],  # [src_labels, None, None],\n",
        "    src_label=1  # confidence should be higher for ID samples\n",
        ")\n",
        "\n",
        "#print(src_scores)\n"
      ],
      "metadata": {
        "id": "YX1QSDHwaUUC",
        "colab": {
          "base_uri": "https://localhost:8080/"
        },
        "outputId": "550c25ac-cdea-46e5-8dbb-d7f766d04d9c"
      },
      "execution_count": 19,
      "outputs": [
        {
          "output_type": "stream",
          "name": "stdout",
          "text": [
            "/content/3D_OS\n",
            "Cannot import torchlars\n",
            "Euclidean distances in a non-normalized space:\n",
            "AUROC - Src label: 1, Tar label: 0\n",
            "SRC->TAR1:      AUROC: 0.4872, FPR95: 0.9400, AUPR_IN: 0.3591, AUPR_OUT: 0.6287\n",
            "SRC->TAR2:      AUROC: 0.4872, FPR95: 0.9400, AUPR_IN: 0.3591, AUPR_OUT: 0.6287\n",
            "SRC->TAR1+TAR2: AUROC: 0.4872, FPR95: 0.9400, AUPR_IN: 0.2192, AUPR_OUT: 0.7714\n",
            "to spreadsheet: 0.48723333333333335,0.94,0.3590874380942596,0.6287185123720069,0.48723333333333335,0.94,0.3590874380942596,0.6287185123720069,0.48723333333333335,0.94,0.21919523184251513,0.7713660721342481\n"
          ]
        },
        {
          "output_type": "execute_result",
          "data": {
            "text/plain": [
              "(-1,\n",
              " -1,\n",
              " {'fpr_at_95_tpr': 0.94,\n",
              "  'detection_error': 0.372,\n",
              "  'auroc': 0.48723333333333335,\n",
              "  'aupr_in': 0.3590874380942596,\n",
              "  'aupr_out': 0.6287185123720069},\n",
              " {'fpr_at_95_tpr': 0.94,\n",
              "  'detection_error': 0.372,\n",
              "  'auroc': 0.48723333333333335,\n",
              "  'aupr_in': 0.3590874380942596,\n",
              "  'aupr_out': 0.6287185123720069},\n",
              " {'fpr_at_95_tpr': 0.94,\n",
              "  'detection_error': 0.22892307692307692,\n",
              "  'auroc': 0.48723333333333335,\n",
              "  'aupr_in': 0.21919523184251513,\n",
              "  'aupr_out': 0.7713660721342481})"
            ]
          },
          "metadata": {},
          "execution_count": 19
        }
      ]
    },
    {
      "cell_type": "code",
      "source": [
        "import matplotlib.pyplot as plt\n",
        "\n",
        "# Example tensor\n",
        "data = src_scores\n",
        "\n",
        "# Convert to numpy for percentile calculation\n",
        "data_np = data.numpy()\n",
        "\n",
        "# Calculate Q1 and Q3\n",
        "Q1 = np.percentile(data_np, 25)\n",
        "Q3 = np.percentile(data_np, 75)\n",
        "\n",
        "# Calculate the IQR\n",
        "IQR = Q3 - Q1\n",
        "\n",
        "# Determine the outlier bounds\n",
        "lower_bound = Q1 - 1.5 * IQR\n",
        "upper_bound = Q3 + 1.5 * IQR\n",
        "# Convert bounds back to PyTorch tensors for comparison (optional)\n",
        "lower_bound_tensor = torch.tensor(lower_bound)\n",
        "upper_bound_tensor = torch.tensor(upper_bound)\n",
        "\n",
        "# Filter out outliers\n",
        "filtered_data = data[(data >= lower_bound_tensor) & (data <= upper_bound_tensor)]\n",
        "\n",
        "\n",
        "# Plot histogram\n",
        "plt.hist(filtered_data, bins=50, alpha=0.75)  # Adjust the number of bins as needed\n",
        "\n",
        "plt.title('Histogram of ID normality scores')\n",
        "plt.xlabel('Value')\n",
        "plt.ylabel('Frequency')\n",
        "\n",
        "plt.show()\n",
        "\n",
        "# Example tensor\n",
        "data = tar1_scores\n",
        "\n",
        "# Convert to numpy for percentile calculation\n",
        "data_np = data.numpy()\n",
        "\n",
        "# Calculate Q1 and Q3\n",
        "Q1 = np.percentile(data_np, 25)\n",
        "Q3 = np.percentile(data_np, 75)\n",
        "\n",
        "# Calculate the IQR\n",
        "IQR = Q3 - Q1\n",
        "\n",
        "# Determine the outlier bounds\n",
        "lower_bound = Q1 - 1.5 * IQR\n",
        "upper_bound = Q3 + 1.5 * IQR\n",
        "# Convert bounds back to PyTorch tensors for comparison (optional)\n",
        "lower_bound_tensor = torch.tensor(lower_bound)\n",
        "upper_bound_tensor = torch.tensor(upper_bound)\n",
        "\n",
        "# Filter out outliers\n",
        "filtered_data = data[(data >= lower_bound_tensor) & (data <= upper_bound_tensor)]\n",
        "\n",
        "# Plot histogram\n",
        "plt.hist(filtered_data, bins=50, alpha=0.75)  # Adjust the number of bins as needed\n",
        "\n",
        "plt.title('Histogram of OOD normality scores')\n",
        "plt.xlabel('Value')\n",
        "plt.ylabel('Frequency')\n",
        "\n",
        "plt.show()\n"
      ],
      "metadata": {
        "id": "DZRYXCU2L-Mv",
        "colab": {
          "base_uri": "https://localhost:8080/",
          "height": 927
        },
        "outputId": "babd27ba-f5ea-4fd1-a21e-f1e60fcca5f7"
      },
      "execution_count": 20,
      "outputs": [
        {
          "output_type": "display_data",
          "data": {
            "text/plain": [
              "<Figure size 640x480 with 1 Axes>"
            ],
            "image/png": "[encoded data removed]"
          },
          "metadata": {}
        },
        {
          "output_type": "display_data",
          "data": {
            "text/plain": [
              "<Figure size 640x480 with 1 Axes>"
            ],
            "image/png": "[encoded data removed]"
          },
          "metadata": {}
        }
      ]
    },
    {
      "cell_type": "code",
      "source": [
        "# Run this command to save data to google drive\n",
        "!cp -r /content/Extension_outputs \"/content/drive/MyDrive/Skole/Advanced machine learning project\""
      ],
      "metadata": {
        "id": "yAAs_TCUNLlO"
      },
      "execution_count": 21,
      "outputs": []
    },
    {
      "cell_type": "markdown",
      "source": [],
      "metadata": {
        "id": "nBNqsX-cZhXv"
      }
    },
    {
      "cell_type": "markdown",
      "source": [
        "# Finding out how defect a chair needs to be for our approach to work\n"
      ],
      "metadata": {
        "id": "jVK3P6CBagup"
      }
    },
    {
      "cell_type": "code",
      "source": [
        "# Load chair\n",
        "points = np.load(\"/content/output_point_cloud.npy\")\n",
        "points = torch.from_numpy(points)\n",
        "points = points.reshape(-1, 3)\n",
        "\n",
        "pcd = o3d.geometry.PointCloud()\n",
        "pcd.points = o3d.utility.Vector3dVector(points)\n",
        "\n",
        "# Create a defect point cloud\n",
        "number_of_samples_per_defect = 300\n",
        "type_of_defects = [\"distort\", \"remove parts\", \"scale\", \"add noise\", \"asymmetrical\"]\n",
        "defect_chairs_distort = generate_defect_chairs(pcd, [\"distort\"], number_of_noisy_chairs=number_of_samples_per_defect)\n",
        "defect_chairs_remove_parts = generate_defect_chairs(pcd, [\"remove parts\"], number_of_noisy_chairs=number_of_samples_per_defect)\n",
        "defect_chairs_scale = generate_defect_chairs(pcd, [\"scale\"], number_of_noisy_chairs=number_of_samples_per_defect)\n",
        "defect_chairs_add_noise = generate_defect_chairs(pcd, [\"add noise\"], number_of_noisy_chairs=number_of_samples_per_defect)\n",
        "defect_chairs_asymmetrical = generate_defect_chairs(pcd, [\"asymmetrical\"], number_of_noisy_chairs=number_of_samples_per_defect)\n",
        "\n",
        "# Create labels\n",
        "defect_chairs_distort_labels = [\"distort\"] * number_of_samples_per_defect\n",
        "defect_chairs_remove_parts_labels = [\"remove parts\"] * number_of_samples_per_defect\n",
        "defect_chairs_scale_labels = [\"scale\"] * number_of_samples_per_defect\n",
        "defect_chairs_add_noise_labels = [\"add noise\"] * number_of_samples_per_defect\n",
        "defect_chairs_asymmetrical_labels = [\"asymmetrical\"] * number_of_samples_per_defect\n",
        "\n",
        "# Filter for OpenShape\n",
        "for i in range(0, number_of_samples_per_defect):\n",
        "    _, defect_chairs_distort[i] = filter_for_OpenShape(defect_chairs_distort[i], num_points=10000)\n",
        "    _, defect_chairs_remove_parts[i] = filter_for_OpenShape(defect_chairs_remove_parts[i], num_points=10000)\n",
        "    _, defect_chairs_scale[i] = filter_for_OpenShape(defect_chairs_scale[i], num_points=10000)\n",
        "    _, defect_chairs_add_noise[i] = filter_for_OpenShape(defect_chairs_add_noise[i], num_points=10000)\n",
        "    _, defect_chairs_asymmetrical[i] = filter_for_OpenShape(defect_chairs_asymmetrical[i], num_points=10000)\n",
        "\n",
        "# Create datasets\n",
        "defect_chairs_distort_dataset = PointCloudDatasetWithLabels(defect_chairs_distort, defect_chairs_distort_labels)\n",
        "defect_chairs_remove_parts_dataset = PointCloudDatasetWithLabels(defect_chairs_remove_parts, defect_chairs_remove_parts_labels)\n",
        "defect_chairs_scale_dataset = PointCloudDatasetWithLabels(defect_chairs_scale, defect_chairs_scale_labels)\n",
        "defect_chairs_add_noise_dataset = PointCloudDatasetWithLabels(defect_chairs_add_noise, defect_chairs_add_noise_labels)\n",
        "defect_chairs_asymmetrical_dataset = PointCloudDatasetWithLabels(defect_chairs_asymmetrical, defect_chairs_asymmetrical_labels)\n",
        "\n",
        "# Create dataloaders\n",
        "defect_chairs_distort_loader = DataLoader(defect_chairs_distort_dataset, batch_size=1, shuffle=False, num_workers=2)\n",
        "defect_chairs_remove_parts_loader = DataLoader(defect_chairs_remove_parts_dataset, batch_size=1, shuffle=False, num_workers=2)\n",
        "defect_chairs_scale_loader = DataLoader(defect_chairs_scale_dataset, batch_size=1, shuffle=False, num_workers=2)\n",
        "defect_chairs_add_noise_loader = DataLoader(defect_chairs_add_noise_dataset, batch_size=1, shuffle=False, num_workers=2)\n",
        "defect_chairs_asymmetrical_loader = DataLoader(defect_chairs_asymmetrical_dataset, batch_size=1, shuffle=False, num_workers=2)\n"
      ],
      "metadata": {
        "id": "3MHwwdX_afT5"
      },
      "execution_count": 22,
      "outputs": []
    },
    {
      "cell_type": "code",
      "source": [
        "from tqdm import tqdm\n",
        "import os\n",
        "\n",
        "device = torch.device(\"cpu\")\n",
        "model = model.to(device)\n",
        "\n",
        "def run_data_through_model_and_save_data(dataloader, filename, save_dir):\n",
        "    print(\"Running training data through the OpenShape model\")\n",
        "    feats = []\n",
        "    for i, (data, label) in tqdm(enumerate(dataloader)):\n",
        "\n",
        "        data = data.to(device)\n",
        "\n",
        "        output_feat = model.forward(feat)\n",
        "\n",
        "        feats.append(output_feat.detach().numpy())\n",
        "\n",
        "    outfile = save_dir + \"/\" + filename + \".npy\"\n",
        "    np.save(outfile, np.array(feats))\n",
        "    print(\"Saved data to \" + outfile)\n",
        "    return feats\n",
        "\n",
        "%cd /content\n",
        "save_dir = \"Extension_outputs_with_different_distortions\"\n",
        "if not os.path.exists(save_dir):\n",
        "    print(f\"Creating directory: {save_dir}\")\n",
        "    os.makedirs(save_dir)\n"
      ],
      "metadata": {
        "colab": {
          "base_uri": "https://localhost:8080/"
        },
        "id": "17CX80tWseWB",
        "outputId": "0e614fbe-888f-422e-8d74-8e0856d8c92f"
      },
      "execution_count": 23,
      "outputs": [
        {
          "output_type": "stream",
          "name": "stdout",
          "text": [
            "/content\n",
            "Creating directory: Extension_outputs_with_different_distortions\n"
          ]
        }
      ]
    },
    {
      "cell_type": "code",
      "source": [
        "# Run data through OpenShape\n",
        "\n",
        "defect_chairs_distort_feats = run_data_through_model_and_save_data(defect_chairs_distort_loader, \"defect_chairs_distort_feats\", save_dir)\n",
        "defect_chairs_remove_parts_feats = run_data_through_model_and_save_data(defect_chairs_remove_parts_loader, \"defect_chairs_remove_parts_feats\", save_dir)\n",
        "defect_chairs_scale_feats = run_data_through_model_and_save_data(defect_chairs_scale_loader, \"defect_chairs_scale_feats\", save_dir)\n",
        "defect_chairs_add_noise_feats = run_data_through_model_and_save_data(defect_chairs_add_noise_loader, \"defect_chairs_add_noise_feats\", save_dir)\n",
        "defect_chairs_asymmetrical_feats = run_data_through_model_and_save_data(defect_chairs_asymmetrical_loader, \"defect_chairs_asymmetrical_feats\", save_dir)"
      ],
      "metadata": {
        "id": "BFzMEm5ace9h",
        "colab": {
          "base_uri": "https://localhost:8080/"
        },
        "outputId": "741f06c2-84fb-48f0-f15d-0b85e2396620"
      },
      "execution_count": 24,
      "outputs": [
        {
          "output_type": "stream",
          "name": "stdout",
          "text": [
            "Running training data through the OpenShape model\n"
          ]
        },
        {
          "output_type": "stream",
          "name": "stderr",
          "text": [
            "300it [03:44,  1.33it/s]"
          ]
        },
        {
          "output_type": "stream",
          "name": "stdout",
          "text": [
            "Saved data to Extension_outputs_with_different_distortions/defect_chairs_distort_feats.npy\n",
            "Running training data through the OpenShape model\n"
          ]
        },
        {
          "output_type": "stream",
          "name": "stderr",
          "text": [
            "\n",
            "300it [03:40,  1.36it/s]"
          ]
        },
        {
          "output_type": "stream",
          "name": "stdout",
          "text": [
            "Saved data to Extension_outputs_with_different_distortions/defect_chairs_remove_parts_feats.npy\n",
            "Running training data through the OpenShape model\n"
          ]
        },
        {
          "output_type": "stream",
          "name": "stderr",
          "text": [
            "\n",
            "300it [03:42,  1.35it/s]"
          ]
        },
        {
          "output_type": "stream",
          "name": "stdout",
          "text": [
            "Saved data to Extension_outputs_with_different_distortions/defect_chairs_scale_feats.npy\n",
            "Running training data through the OpenShape model\n"
          ]
        },
        {
          "output_type": "stream",
          "name": "stderr",
          "text": [
            "\n",
            "300it [03:34,  1.40it/s]\n"
          ]
        },
        {
          "output_type": "stream",
          "name": "stdout",
          "text": [
            "Saved data to Extension_outputs_with_different_distortions/defect_chairs_add_noise_feats.npy\n",
            "Running training data through the OpenShape model\n"
          ]
        },
        {
          "output_type": "stream",
          "name": "stderr",
          "text": [
            "300it [03:39,  1.37it/s]"
          ]
        },
        {
          "output_type": "stream",
          "name": "stdout",
          "text": [
            "Saved data to Extension_outputs_with_different_distortions/defect_chairs_asymmetrical_feats.npy\n"
          ]
        },
        {
          "output_type": "stream",
          "name": "stderr",
          "text": [
            "\n"
          ]
        }
      ]
    },
    {
      "cell_type": "code",
      "source": [
        "train_feats = run_data_through_model_and_save_data(train_loader, \"train_feats\", save_dir)\n",
        "src_feats = run_data_through_model_and_save_data(id_loader, \"src_feats\", save_dir)"
      ],
      "metadata": {
        "colab": {
          "base_uri": "https://localhost:8080/"
        },
        "id": "llzmc05vrtfF",
        "outputId": "24b092dd-f689-4997-8b3d-edba517c305f"
      },
      "execution_count": 25,
      "outputs": [
        {
          "output_type": "stream",
          "name": "stdout",
          "text": [
            "Running training data through the OpenShape model\n"
          ]
        },
        {
          "output_type": "stream",
          "name": "stderr",
          "text": [
            "300it [03:44,  1.34it/s]\n"
          ]
        },
        {
          "output_type": "stream",
          "name": "stdout",
          "text": [
            "Saved data to Extension_outputs_with_different_distortions/train_feats.npy\n",
            "Running training data through the OpenShape model\n"
          ]
        },
        {
          "output_type": "stream",
          "name": "stderr",
          "text": [
            "300it [03:40,  1.36it/s]"
          ]
        },
        {
          "output_type": "stream",
          "name": "stdout",
          "text": [
            "Saved data to Extension_outputs_with_different_distortions/src_feats.npy\n"
          ]
        },
        {
          "output_type": "stream",
          "name": "stderr",
          "text": [
            "\n"
          ]
        }
      ]
    },
    {
      "cell_type": "code",
      "source": [
        "train_feats = np.load(\"Extension_outputs_with_different_distortions/train_feats.npy\")\n",
        "src_feats = np.load(\"Extension_outputs_with_different_distortions/src_feats.npy\")\n",
        "defect_chairs_distort_feats = np.load(\"/content/Extension_outputs_with_different_distortions/defect_chairs_distort_feats.npy\")\n",
        "defect_chairs_remove_parts_feats = np.load(\"/content/Extension_outputs_with_different_distortions/defect_chairs_remove_parts_feats.npy\")\n",
        "defect_chairs_scale_feats = np.load(\"/content/Extension_outputs_with_different_distortions/defect_chairs_scale_feats.npy\")\n",
        "defect_chairs_add_noise_feats = np.load(\"/content/Extension_outputs_with_different_distortions/defect_chairs_add_noise_feats.npy\")\n",
        "defect_chairs_asymmetrical_feats = np.load(\"/content/Extension_outputs_with_different_distortions/defect_chairs_asymmetrical_feats.npy\")\n",
        "\n",
        "train_feats = torch.from_numpy(train_feats)\n",
        "src_feats = torch.from_numpy(src_feats)\n",
        "defect_chairs_distort_feats = torch.from_numpy(defect_chairs_distort_feats)\n",
        "defect_chairs_remove_parts_feats = torch.from_numpy(defect_chairs_remove_parts_feats)\n",
        "defect_chairs_scale_feats = torch.from_numpy(defect_chairs_scale_feats)\n",
        "defect_chairs_add_noise_feats = torch.from_numpy(defect_chairs_add_noise_feats)\n",
        "defect_chairs_asymmetrical_feats = torch.from_numpy(defect_chairs_asymmetrical_feats)"
      ],
      "metadata": {
        "id": "TnXWZ2WJjh69"
      },
      "execution_count": 26,
      "outputs": []
    },
    {
      "cell_type": "code",
      "source": [
        "print(train_feats.max())\n",
        "print(src_feats.max())\n",
        "print(defect_chairs_distort_feats.max())\n",
        "print(defect_chairs_remove_parts_feats.max())\n",
        "print(defect_chairs_scale_feats.max())\n",
        "print(defect_chairs_add_noise_feats.max())\n",
        "print(defect_chairs_asymmetrical_feats.max())"
      ],
      "metadata": {
        "colab": {
          "base_uri": "https://localhost:8080/"
        },
        "id": "DLffufHwBJlV",
        "outputId": "10ef0460-8f8d-410b-f302-46f47e5cd926"
      },
      "execution_count": 27,
      "outputs": [
        {
          "output_type": "stream",
          "name": "stdout",
          "text": [
            "tensor(118.7865)\n",
            "tensor(122.6706)\n",
            "tensor(120.1035)\n",
            "tensor(120.1237)\n",
            "tensor(120.9827)\n",
            "tensor(119.3327)\n",
            "tensor(122.9260)\n"
          ]
        }
      ]
    },
    {
      "cell_type": "markdown",
      "source": [
        "# Evaluate performance"
      ],
      "metadata": {
        "id": "3Y5EKoIDFvzw"
      }
    },
    {
      "cell_type": "code",
      "source": [
        "# Evaluate model\n",
        "from knn_cuda import KNN\n",
        "%cd /content/3D_OS\n",
        "from utils.ood_utils import eval_ood_sncore\n",
        "%cd /content\n",
        "\n",
        "knn = KNN(k=1, transpose_mode=True)\n",
        "\n",
        "device = torch.device(\"cuda\")\n",
        "train_feats = train_feats.to(device)\n",
        "src_feats = src_feats.to(device)\n",
        "defect_chairs_distort_feats = defect_chairs_distort_feats.to(device)\n",
        "defect_chairs_remove_parts_feats = defect_chairs_remove_parts_feats.to(device)\n",
        "defect_chairs_scale_feats = defect_chairs_scale_feats.to(device)\n",
        "defect_chairs_add_noise_feats = defect_chairs_add_noise_feats.to(device)\n",
        "defect_chairs_asymmetrical_feats = defect_chairs_asymmetrical_feats.to(device)\n",
        "\n",
        "\n",
        "def print_CeL2_scores(train_feats, src_feats, ood_feats):\n",
        "    print(\"Euclidean distances in a non-normalized space:\")\n",
        "    # eucl distance in a non-normalized space\n",
        "    src_dist, src_ids = knn(train_feats.unsqueeze(0), src_feats.unsqueeze(0))\n",
        "    src_dist = src_dist.squeeze().cpu()\n",
        "    src_scores = 1 / (src_dist + 0.000000000000000000000000001) # To avoid inf\n",
        "    print(src_scores.max())\n",
        "\n",
        "    ood_dist, _ = knn(train_feats.unsqueeze(0), ood_feats.unsqueeze(0))\n",
        "    ood_dist = ood_dist.squeeze().cpu()\n",
        "    ood_scores = 1 / ood_dist\n",
        "    print(ood_scores.max())\n",
        "\n",
        "\n",
        "    # Scores for distort\n",
        "    eval_ood_sncore(\n",
        "        scores_list=[src_scores, ood_scores, ood_scores],\n",
        "        preds_list=[None, None, None],  # [src_pred, None, None],\n",
        "        labels_list=[None, None, None],  # [src_labels, None, None],\n",
        "        src_label=1  # confidence should be higher for ID samples\n",
        "    )\n",
        "# Print scores\n",
        "print(\"defect_chairs_distort_feats\")\n",
        "print_CeL2_scores(train_feats, src_feats, defect_chairs_distort_feats)\n",
        "print(\"defect_chairs_remove_parts_feats\")\n",
        "print_CeL2_scores(train_feats, src_feats, defect_chairs_remove_parts_feats)\n",
        "print(\"defect_chairs_scale_feats\")\n",
        "print_CeL2_scores(train_feats, src_feats, defect_chairs_scale_feats)\n",
        "print(\"defect_chairs_add_noise_feats\")\n",
        "print_CeL2_scores(train_feats, src_feats, defect_chairs_add_noise_feats)\n",
        "print(\"defect_chairs_asymmetrical_feats\")\n",
        "print_CeL2_scores(train_feats, src_feats, defect_chairs_asymmetrical_feats)\n"
      ],
      "metadata": {
        "colab": {
          "base_uri": "https://localhost:8080/"
        },
        "id": "y7NBsj0GdtTt",
        "outputId": "16defc9f-3912-42b7-ed8a-65150f0ecb05"
      },
      "execution_count": 28,
      "outputs": [
        {
          "output_type": "stream",
          "name": "stdout",
          "text": [
            "/content/3D_OS\n",
            "/content\n",
            "defect_chairs_distort_feats\n",
            "Euclidean distances in a non-normalized space:\n",
            "tensor(2600.3125)\n",
            "tensor(2504.0620)\n",
            "AUROC - Src label: 1, Tar label: 0\n",
            "SRC->TAR1:      AUROC: 0.4916, FPR95: 0.9233, AUPR_IN: 0.4913, AUPR_OUT: 0.5031\n",
            "SRC->TAR2:      AUROC: 0.4916, FPR95: 0.9233, AUPR_IN: 0.4913, AUPR_OUT: 0.5031\n",
            "SRC->TAR1+TAR2: AUROC: 0.4916, FPR95: 0.9233, AUPR_IN: 0.3267, AUPR_OUT: 0.6683\n",
            "to spreadsheet: 0.49159444444444444,0.9233333333333333,0.49128155236764504,0.5030501680461001,0.49159444444444444,0.9233333333333333,0.49128155236764504,0.5030501680461001,0.49159444444444444,0.9233333333333333,0.32674622578132606,0.6683087130719175\n",
            "defect_chairs_remove_parts_feats\n",
            "Euclidean distances in a non-normalized space:\n",
            "tensor(2600.3125)\n",
            "tensor(2600.3125)\n",
            "AUROC - Src label: 1, Tar label: 0\n",
            "SRC->TAR1:      AUROC: 0.5000, FPR95: 0.9500, AUPR_IN: 0.5008, AUPR_OUT: 0.5008\n",
            "SRC->TAR2:      AUROC: 0.5000, FPR95: 0.9500, AUPR_IN: 0.5008, AUPR_OUT: 0.5008\n",
            "SRC->TAR1+TAR2: AUROC: 0.5000, FPR95: 0.9500, AUPR_IN: 0.3344, AUPR_OUT: 0.6672\n",
            "to spreadsheet: 0.5,0.95,0.5008333333333334,0.5008333333333334,0.5,0.95,0.5008333333333334,0.5008333333333334,0.5,0.95,0.3344444444444444,0.6672222222222222\n",
            "defect_chairs_scale_feats\n",
            "Euclidean distances in a non-normalized space:\n",
            "tensor(2600.3125)\n",
            "tensor(2600.3125)\n",
            "AUROC - Src label: 1, Tar label: 0\n",
            "SRC->TAR1:      AUROC: 0.5000, FPR95: 0.9500, AUPR_IN: 0.5008, AUPR_OUT: 0.5008\n",
            "SRC->TAR2:      AUROC: 0.5000, FPR95: 0.9500, AUPR_IN: 0.5008, AUPR_OUT: 0.5008\n",
            "SRC->TAR1+TAR2: AUROC: 0.5000, FPR95: 0.9500, AUPR_IN: 0.3344, AUPR_OUT: 0.6672\n",
            "to spreadsheet: 0.5,0.95,0.5008333333333334,0.5008333333333334,0.5,0.95,0.5008333333333334,0.5008333333333334,0.5,0.95,0.3344444444444444,0.6672222222222222\n",
            "defect_chairs_add_noise_feats\n",
            "Euclidean distances in a non-normalized space:\n",
            "tensor(2600.3125)\n",
            "tensor(1750.5442)\n",
            "AUROC - Src label: 1, Tar label: 0\n",
            "SRC->TAR1:      AUROC: 0.4896, FPR95: 0.9267, AUPR_IN: 0.4952, AUPR_OUT: 0.5003\n",
            "SRC->TAR2:      AUROC: 0.4896, FPR95: 0.9267, AUPR_IN: 0.4952, AUPR_OUT: 0.5003\n",
            "SRC->TAR1+TAR2: AUROC: 0.4896, FPR95: 0.9267, AUPR_IN: 0.3308, AUPR_OUT: 0.6659\n",
            "to spreadsheet: 0.4895666666666667,0.9266666666666666,0.4951620494630342,0.5002879439441921,0.4895666666666667,0.9266666666666666,0.4951620494630342,0.5002879439441921,0.4895666666666667,0.9266666666666666,0.330771046475516,0.6659113129966876\n",
            "defect_chairs_asymmetrical_feats\n",
            "Euclidean distances in a non-normalized space:\n",
            "tensor(2600.3125)\n",
            "tensor(2600.3125)\n",
            "AUROC - Src label: 1, Tar label: 0\n",
            "SRC->TAR1:      AUROC: 0.5000, FPR95: 0.9500, AUPR_IN: 0.5008, AUPR_OUT: 0.5008\n",
            "SRC->TAR2:      AUROC: 0.5000, FPR95: 0.9500, AUPR_IN: 0.5008, AUPR_OUT: 0.5008\n",
            "SRC->TAR1+TAR2: AUROC: 0.5000, FPR95: 0.9500, AUPR_IN: 0.3344, AUPR_OUT: 0.6672\n",
            "to spreadsheet: 0.5,0.95,0.5008333333333334,0.5008333333333334,0.5,0.95,0.5008333333333334,0.5008333333333334,0.5,0.95,0.3344444444444444,0.6672222222222222\n"
          ]
        }
      ]
    }
  ]
}